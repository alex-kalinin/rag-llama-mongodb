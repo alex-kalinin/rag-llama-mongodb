{
 "cells": [
  {
   "cell_type": "markdown",
   "id": "c81886a5",
   "metadata": {},
   "source": [
    "**Prerequisite**\n",
    "1. Download LLama Model locally\n",
    "  1. https://huggingface.co/TheBloke/Llama-2-13B-chat-GGUF/tree/main\n",
    "2. Preload Sentence Transformer model (run the preload code below)\n",
    "\n",
    "**Plan**\n",
    "\n",
    "1. Use PDF document (e.g. a financial report)\n",
    "2. Split using SentenceTransformer\n",
    "3. Load to MongoDB\n",
    "4. Search \n",
    "5. Add a prompt\n",
    "6. Generate"
   ]
  },
  {
   "cell_type": "code",
   "execution_count": 1,
   "id": "7512454b",
   "metadata": {
    "execution": {
     "iopub.execute_input": "2024-01-24T19:46:59.300773Z",
     "iopub.status.busy": "2024-01-24T19:46:59.300509Z",
     "iopub.status.idle": "2024-01-24T19:46:59.311785Z",
     "shell.execute_reply": "2024-01-24T19:46:59.310932Z",
     "shell.execute_reply.started": "2024-01-24T19:46:59.300749Z"
    }
   },
   "outputs": [],
   "source": [
    "import os\n",
    "KAGGLE = os.environ.get('KAGGLE_KERNEL_RUN_TYPE', '') != ''"
   ]
  },
  {
   "cell_type": "code",
   "execution_count": 2,
   "id": "e3fa78cc",
   "metadata": {},
   "outputs": [],
   "source": [
    "# We will keep all global variables in an object to not pullute the global namespace.\n",
    "class Object(object):\n",
    "    pass"
   ]
  },
  {
   "cell_type": "code",
   "execution_count": 3,
   "id": "257a6fc0",
   "metadata": {},
   "outputs": [],
   "source": [
    "t = Object()"
   ]
  },
  {
   "cell_type": "markdown",
   "id": "8c573c79",
   "metadata": {},
   "source": [
    "## Llama Config"
   ]
  },
  {
   "cell_type": "code",
   "execution_count": 4,
   "id": "d29b6e6e",
   "metadata": {
    "execution": {
     "iopub.execute_input": "2024-01-24T19:49:13.671977Z",
     "iopub.status.busy": "2024-01-24T19:49:13.671596Z",
     "iopub.status.idle": "2024-01-24T19:49:13.677290Z",
     "shell.execute_reply": "2024-01-24T19:49:13.676286Z",
     "shell.execute_reply.started": "2024-01-24T19:49:13.671931Z"
    }
   },
   "outputs": [],
   "source": [
    "# t.model_path = \"../../data\"\n",
    "if KAGGLE:\n",
    "    t.llm_path = \"/kaggle/working/llama-2-13b-chat.Q6_K.gguf\"\n",
    "    t.layers = 50\n",
    "else:    \n",
    "#    t.model_path = \"../../../data\"\n",
    "    t.model_path = \"../../../../../data\"\n",
    "    t.llm_path = f\"{t.model_path}/llama/llama-2-13b-chat.Q6_K.gguf\"\n",
    "    t.layers = 50"
   ]
  },
  {
   "cell_type": "markdown",
   "id": "184ce8aa",
   "metadata": {},
   "source": [
    "## Install Packages"
   ]
  },
  {
   "cell_type": "code",
   "execution_count": 5,
   "id": "103f9686",
   "metadata": {
    "execution": {
     "iopub.execute_input": "2024-01-24T19:43:42.309205Z",
     "iopub.status.busy": "2024-01-24T19:43:42.308952Z",
     "iopub.status.idle": "2024-01-24T19:45:03.746654Z",
     "shell.execute_reply": "2024-01-24T19:45:03.745363Z",
     "shell.execute_reply.started": "2024-01-24T19:43:42.309181Z"
    }
   },
   "outputs": [],
   "source": [
    "if KAGGLE:\n",
    "    !pip install langchain\n",
    "    !pip install sentence-transformers\n",
    "    !pip install \"pymongo[srv]\"\n",
    "    !pip install typing-inspect==0.8.0 typing_extensions==4.5.0\n",
    "    !pip install pypdf"
   ]
  },
  {
   "cell_type": "code",
   "execution_count": 6,
   "id": "1669e348",
   "metadata": {
    "execution": {
     "iopub.execute_input": "2024-01-24T19:45:03.748968Z",
     "iopub.status.busy": "2024-01-24T19:45:03.748673Z",
     "iopub.status.idle": "2024-01-24T19:46:36.094906Z",
     "shell.execute_reply": "2024-01-24T19:46:36.093868Z",
     "shell.execute_reply.started": "2024-01-24T19:45:03.748942Z"
    }
   },
   "outputs": [],
   "source": [
    "if KAGGLE:\n",
    "    !CMAKE_ARGS=\"-DLLAMA_CUBLAS=on\" pip install llama-cpp-python==0.2.25 --force-reinstall --upgrade --no-cache-dir"
   ]
  },
  {
   "cell_type": "code",
   "execution_count": 7,
   "id": "dc805881",
   "metadata": {
    "execution": {
     "iopub.execute_input": "2024-01-24T19:46:36.097031Z",
     "iopub.status.busy": "2024-01-24T19:46:36.096637Z",
     "iopub.status.idle": "2024-01-24T19:46:51.863826Z",
     "shell.execute_reply": "2024-01-24T19:46:51.862598Z",
     "shell.execute_reply.started": "2024-01-24T19:46:36.096992Z"
    }
   },
   "outputs": [],
   "source": [
    "if KAGGLE:\n",
    "    !pip install -U numpy==1.24.1"
   ]
  },
  {
   "cell_type": "markdown",
   "id": "ca4e5ffe",
   "metadata": {},
   "source": [
    "## Pre-load Models"
   ]
  },
  {
   "cell_type": "code",
   "execution_count": 8,
   "id": "47e08f12",
   "metadata": {
    "execution": {
     "iopub.execute_input": "2024-01-24T19:46:51.867085Z",
     "iopub.status.busy": "2024-01-24T19:46:51.866771Z",
     "iopub.status.idle": "2024-01-24T19:46:51.871988Z",
     "shell.execute_reply": "2024-01-24T19:46:51.871123Z",
     "shell.execute_reply.started": "2024-01-24T19:46:51.867055Z"
    }
   },
   "outputs": [],
   "source": [
    "def preload():\n",
    "    s = SentenceTransformersTokenTextSplitter()\n",
    "    emb = SentenceTransformer('sentence-transformers/multi-qa-mpnet-base-cos-v1')"
   ]
  },
  {
   "cell_type": "markdown",
   "id": "405eff0f",
   "metadata": {},
   "source": [
    "## Imports"
   ]
  },
  {
   "cell_type": "code",
   "execution_count": 9,
   "id": "94e07582",
   "metadata": {
    "execution": {
     "iopub.execute_input": "2024-01-24T19:46:51.873876Z",
     "iopub.status.busy": "2024-01-24T19:46:51.873531Z",
     "iopub.status.idle": "2024-01-24T19:46:59.293675Z",
     "shell.execute_reply": "2024-01-24T19:46:59.292828Z",
     "shell.execute_reply.started": "2024-01-24T19:46:51.873843Z"
    }
   },
   "outputs": [],
   "source": [
    "from pymongo import MongoClient\n",
    "import os\n",
    "from llama_cpp import Llama\n",
    "from langchain_community.llms import LlamaCpp\n",
    "import torch\n",
    "import umap\n",
    "from tqdm import tqdm\n",
    "# https://www.sbert.net/docs/pretrained_models.html#model-overview\n",
    "# Sentence BERT, based on BERT\n",
    "from sentence_transformers import SentenceTransformer\n",
    "# https://api.python.langchain.com/en/latest/text_splitter/langchain.text_splitter.RecursiveCharacterTextSplitter.ht\n",
    "# https://api.python.langchain.com/en/latest/text_splitter/langchain.text_splitter.SentenceTransformersTokenTextSplitter.html\n",
    "from langchain.text_splitter import (\n",
    "    RecursiveCharacterTextSplitter, \n",
    "    SentenceTransformersTokenTextSplitter\n",
    ")\n",
    "from pypdf import PdfReader\n",
    "import ctypes\n",
    "import matplotlib.pyplot as plt\n",
    "import pickle\n",
    "import numpy as np\n",
    "from llama_cpp import llama_log_set\n",
    "def my_log_callback(level, message, user_data):\n",
    "    pass\n",
    "\n",
    "log_callback = ctypes.CFUNCTYPE(None, ctypes.c_int, ctypes.c_char_p, ctypes.c_void_p)(my_log_callback)\n",
    "llama_log_set(log_callback, ctypes.c_void_p())"
   ]
  },
  {
   "cell_type": "markdown",
   "id": "e86f2b1d",
   "metadata": {},
   "source": [
    "## MongoDB Config"
   ]
  },
  {
   "cell_type": "code",
   "execution_count": 10,
   "id": "ebeffff9",
   "metadata": {
    "execution": {
     "iopub.execute_input": "2024-01-24T19:46:59.313846Z",
     "iopub.status.busy": "2024-01-24T19:46:59.312983Z",
     "iopub.status.idle": "2024-01-24T19:47:00.021320Z",
     "shell.execute_reply": "2024-01-24T19:47:00.020443Z",
     "shell.execute_reply.started": "2024-01-24T19:46:59.313813Z"
    }
   },
   "outputs": [
    {
     "name": "stdout",
     "output_type": "stream",
     "text": [
      "Pinged your deployment. You successfully connected to MongoDB!\n"
     ]
    }
   ],
   "source": [
    "if KAGGLE:\n",
    "    from kaggle_secrets import UserSecretsClient\n",
    "    user_secrets = UserSecretsClient()\n",
    "    t.uri = user_secrets.get_secret(\"MONGODB_URI\")\n",
    "else:\n",
    "    t.uri = os.environ[\"MONGODB_URI\"]\n",
    "# Create a new client and connect to the server\n",
    "t.client = MongoClient(t.uri)\n",
    "# Send a ping to confirm a successful connection\n",
    "try:\n",
    "    t.client.admin.command('ping')\n",
    "    print(\"Pinged your deployment. You successfully connected to MongoDB!\")\n",
    "except Exception as e:\n",
    "    print(e)"
   ]
  },
  {
   "cell_type": "code",
   "execution_count": 11,
   "id": "10fdd315",
   "metadata": {
    "execution": {
     "iopub.execute_input": "2024-01-24T19:47:00.023015Z",
     "iopub.status.busy": "2024-01-24T19:47:00.022721Z",
     "iopub.status.idle": "2024-01-24T19:47:00.027496Z",
     "shell.execute_reply": "2024-01-24T19:47:00.026621Z",
     "shell.execute_reply.started": "2024-01-24T19:47:00.022990Z"
    }
   },
   "outputs": [],
   "source": [
    "t.db = t.client.rag_llama\n",
    "t.coll = t.db.mdb"
   ]
  },
  {
   "cell_type": "code",
   "execution_count": 12,
   "id": "89379dbd",
   "metadata": {
    "execution": {
     "iopub.execute_input": "2024-01-24T19:47:00.031155Z",
     "iopub.status.busy": "2024-01-24T19:47:00.030878Z",
     "iopub.status.idle": "2024-01-24T19:48:19.392846Z",
     "shell.execute_reply": "2024-01-24T19:48:19.391957Z",
     "shell.execute_reply.started": "2024-01-24T19:47:00.031131Z"
    }
   },
   "outputs": [],
   "source": [
    "if KAGGLE:\n",
    "    !wget https://huggingface.co/TheBloke/Llama-2-13B-chat-GGUF/resolve/main/llama-2-13b-chat.Q6_K.gguf    \n",
    "    preload()"
   ]
  },
  {
   "cell_type": "markdown",
   "id": "7e4e54ff",
   "metadata": {},
   "source": [
    "## Load and Parse Documents"
   ]
  },
  {
   "cell_type": "code",
   "execution_count": 13,
   "id": "8be35e74",
   "metadata": {
    "execution": {
     "iopub.execute_input": "2024-01-24T19:49:13.679294Z",
     "iopub.status.busy": "2024-01-24T19:49:13.679012Z",
     "iopub.status.idle": "2024-01-24T19:49:48.555595Z",
     "shell.execute_reply": "2024-01-24T19:49:48.554779Z",
     "shell.execute_reply.started": "2024-01-24T19:49:13.679269Z"
    }
   },
   "outputs": [],
   "source": [
    "# t.reader = PdfReader(\"data/brk-2023-q3.pdf\")\n",
    "# t.reader = PdfReader(\"data/msft-2022.pdf\")\n",
    "if KAGGLE:\n",
    "    t.reader = PdfReader(f\"../input/mdb-pdf/{t.coll.name}-2022.pdf\")\n",
    "else:\n",
    "    t.reader = PdfReader(f\"data/{t.coll.name}-2022.pdf\")\n",
    "t.pages = [p.extract_text().strip() for p in t.reader.pages]"
   ]
  },
  {
   "cell_type": "markdown",
   "id": "1f4a371b",
   "metadata": {},
   "source": [
    "Pages are of various sizes. We need to split into chunks that fit into the model window, specifically, the BERT embedding 256-token sized window. \n",
    "\n",
    "So we'll join all pages, and use the SentenceTransformer splitter to split the doc into the chunks of the right size."
   ]
  },
  {
   "cell_type": "code",
   "execution_count": 14,
   "id": "52186f8c",
   "metadata": {
    "execution": {
     "iopub.execute_input": "2024-01-24T19:49:48.556910Z",
     "iopub.status.busy": "2024-01-24T19:49:48.556633Z",
     "iopub.status.idle": "2024-01-24T19:49:48.561149Z",
     "shell.execute_reply": "2024-01-24T19:49:48.560172Z",
     "shell.execute_reply.started": "2024-01-24T19:49:48.556885Z"
    }
   },
   "outputs": [],
   "source": [
    "# print(t.pages[10])"
   ]
  },
  {
   "cell_type": "code",
   "execution_count": 15,
   "id": "cf75f798",
   "metadata": {
    "execution": {
     "iopub.execute_input": "2024-01-24T19:49:48.562903Z",
     "iopub.status.busy": "2024-01-24T19:49:48.562511Z",
     "iopub.status.idle": "2024-01-24T19:49:48.593178Z",
     "shell.execute_reply": "2024-01-24T19:49:48.592352Z",
     "shell.execute_reply.started": "2024-01-24T19:49:48.562866Z"
    }
   },
   "outputs": [
    {
     "data": {
      "text/plain": [
       "573"
      ]
     },
     "execution_count": 15,
     "metadata": {},
     "output_type": "execute_result"
    }
   ],
   "source": [
    "t.ch_splitter =  RecursiveCharacterTextSplitter(\n",
    "    separators=[\"\\n\\n\", \"\\n\", \". \", \" \", \"\"],\n",
    "    chunk_size=1024,\n",
    "    chunk_overlap=0\n",
    ")\n",
    "t.ch_chunks = t.ch_splitter.split_text(\"\\n\".join(t.pages))\n",
    "len(t.ch_chunks)"
   ]
  },
  {
   "cell_type": "code",
   "execution_count": 16,
   "id": "85a488de",
   "metadata": {
    "execution": {
     "iopub.execute_input": "2024-01-24T19:49:48.596138Z",
     "iopub.status.busy": "2024-01-24T19:49:48.595869Z",
     "iopub.status.idle": "2024-01-24T19:50:01.793247Z",
     "shell.execute_reply": "2024-01-24T19:50:01.792408Z",
     "shell.execute_reply.started": "2024-01-24T19:49:48.596113Z"
    }
   },
   "outputs": [
    {
     "data": {
      "text/plain": [
       "594"
      ]
     },
     "execution_count": 16,
     "metadata": {},
     "output_type": "execute_result"
    }
   ],
   "source": [
    "t.token_splitter = SentenceTransformersTokenTextSplitter(chunk_overlap=10, tokens_per_chunk=256)\n",
    "t.token_chunks = []\n",
    "for ch in t.ch_chunks:\n",
    "    t.token_chunks.extend(t.token_splitter.split_text(ch))\n",
    "len(t.token_chunks)"
   ]
  },
  {
   "cell_type": "markdown",
   "id": "047bc76f",
   "metadata": {},
   "source": [
    "## Embedding Model"
   ]
  },
  {
   "cell_type": "code",
   "execution_count": 17,
   "id": "9a6a3c4b",
   "metadata": {
    "execution": {
     "iopub.execute_input": "2024-01-24T19:50:01.794948Z",
     "iopub.status.busy": "2024-01-24T19:50:01.794324Z",
     "iopub.status.idle": "2024-01-24T19:50:02.227250Z",
     "shell.execute_reply": "2024-01-24T19:50:02.226498Z",
     "shell.execute_reply.started": "2024-01-24T19:50:01.794916Z"
    }
   },
   "outputs": [],
   "source": [
    "t.emb_model = SentenceTransformer('sentence-transformers/multi-qa-mpnet-base-cos-v1')"
   ]
  },
  {
   "cell_type": "code",
   "execution_count": 18,
   "id": "cfd0495c",
   "metadata": {
    "execution": {
     "iopub.execute_input": "2024-01-24T19:50:02.228990Z",
     "iopub.status.busy": "2024-01-24T19:50:02.228596Z",
     "iopub.status.idle": "2024-01-24T19:50:03.415302Z",
     "shell.execute_reply": "2024-01-24T19:50:03.414236Z",
     "shell.execute_reply.started": "2024-01-24T19:50:02.228952Z"
    }
   },
   "outputs": [
    {
     "data": {
      "text/plain": [
       "768"
      ]
     },
     "execution_count": 18,
     "metadata": {},
     "output_type": "execute_result"
    }
   ],
   "source": [
    "len(t.emb_model.encode(t.token_chunks[21]).tolist())"
   ]
  },
  {
   "cell_type": "markdown",
   "id": "7e2cbb30",
   "metadata": {},
   "source": [
    "## Upload documents"
   ]
  },
  {
   "cell_type": "code",
   "execution_count": 19,
   "id": "03656f93",
   "metadata": {
    "execution": {
     "iopub.execute_input": "2024-01-24T19:50:03.417659Z",
     "iopub.status.busy": "2024-01-24T19:50:03.417030Z",
     "iopub.status.idle": "2024-01-24T19:50:03.594357Z",
     "shell.execute_reply": "2024-01-24T19:50:03.593358Z",
     "shell.execute_reply.started": "2024-01-24T19:50:03.417621Z"
    }
   },
   "outputs": [
    {
     "data": {
      "text/plain": [
       "10"
      ]
     },
     "execution_count": 19,
     "metadata": {},
     "output_type": "execute_result"
    }
   ],
   "source": [
    "len(list(t.coll.find().limit(10)))"
   ]
  },
  {
   "cell_type": "code",
   "execution_count": 20,
   "id": "b7f0695b",
   "metadata": {
    "execution": {
     "iopub.execute_input": "2024-01-24T19:50:25.349110Z",
     "iopub.status.busy": "2024-01-24T19:50:25.348728Z",
     "iopub.status.idle": "2024-01-24T19:50:25.355555Z",
     "shell.execute_reply": "2024-01-24T19:50:25.352428Z",
     "shell.execute_reply.started": "2024-01-24T19:50:25.349075Z"
    }
   },
   "outputs": [],
   "source": [
    "# t.docs = []\n",
    "# for t.ch in t.token_chunks:\n",
    "#     t.doc = {\n",
    "#         \"text\": t.ch,\n",
    "#         \"embedding\": t.emb_model.encode(t.ch).tolist()\n",
    "#     }\n",
    "#     t.docs.append(t.doc)\n",
    "#\n",
    "# _ = t.coll.insert_many(t.docs)"
   ]
  },
  {
   "cell_type": "code",
   "execution_count": 21,
   "id": "9dd6d1b4",
   "metadata": {
    "execution": {
     "iopub.execute_input": "2024-01-24T19:50:25.357209Z",
     "iopub.status.busy": "2024-01-24T19:50:25.356860Z",
     "iopub.status.idle": "2024-01-24T19:50:25.574680Z",
     "shell.execute_reply": "2024-01-24T19:50:25.573777Z",
     "shell.execute_reply.started": "2024-01-24T19:50:25.357165Z"
    }
   },
   "outputs": [
    {
     "data": {
      "text/plain": [
       "10"
      ]
     },
     "execution_count": 21,
     "metadata": {},
     "output_type": "execute_result"
    }
   ],
   "source": [
    "len(list(t.coll.find().limit(10)))"
   ]
  },
  {
   "cell_type": "markdown",
   "id": "b20fbf58",
   "metadata": {},
   "source": [
    "## Query Index"
   ]
  },
  {
   "cell_type": "markdown",
   "id": "d63dca3a",
   "metadata": {},
   "source": [
    "Index definition:\n",
    "\n",
    "```\n",
    "{\n",
    "  \"fields\": [\n",
    "    {\n",
    "      \"type\": \"vector\",\n",
    "      \"path\": \"emb\",\n",
    "      \"numDimensions\": 768,\n",
    "      \"similarity\": \"dotProduct\"\n",
    "    }\n",
    "  ]\n",
    "}\n",
    "```"
   ]
  },
  {
   "cell_type": "code",
   "execution_count": 22,
   "id": "2b8a04bb",
   "metadata": {
    "execution": {
     "iopub.execute_input": "2024-01-24T19:50:25.576176Z",
     "iopub.status.busy": "2024-01-24T19:50:25.575836Z",
     "iopub.status.idle": "2024-01-24T19:50:25.777400Z",
     "shell.execute_reply": "2024-01-24T19:50:25.776707Z",
     "shell.execute_reply.started": "2024-01-24T19:50:25.576143Z"
    }
   },
   "outputs": [],
   "source": [
    "t.query = \"What was the total revenue?\"\n",
    "\n",
    "t.results = t.coll.aggregate([{\n",
    "    \"$vectorSearch\": {\n",
    "        \"queryVector\": t.emb_model.encode(t.query).tolist(),\n",
    "        \"path\": \"embedding\",\n",
    "        \"numCandidates\": 100,\n",
    "        \"limit\": 8,\n",
    "        \"index\": f\"{t.coll.name}_vector_index\"\n",
    "    }}])\n",
    "\n",
    "t.context = \"\\n\\n\".join([d['text'] for d in t.results])"
   ]
  },
  {
   "cell_type": "code",
   "execution_count": 23,
   "id": "d8c4dd13",
   "metadata": {
    "execution": {
     "iopub.execute_input": "2024-01-24T19:50:25.778719Z",
     "iopub.status.busy": "2024-01-24T19:50:25.778418Z",
     "iopub.status.idle": "2024-01-24T19:50:25.783509Z",
     "shell.execute_reply": "2024-01-24T19:50:25.782578Z",
     "shell.execute_reply.started": "2024-01-24T19:50:25.778693Z"
    }
   },
   "outputs": [
    {
     "name": "stdout",
     "output_type": "stream",
     "text": [
      "operations ( in thousands of u. s. dollars, except share and per share data ) years ended january 31, 2023 2022 2021 revenue : subscription $ 1, 235, 122 $ 842, 047 $ 565, 349 services 48, 918 31, 735 25, 031\n",
      "\n",
      "the following table presents the company ’ s revenues disaggregated by primary geographical markets, subscription product categories and services ( in thousands ) : years ended january 31, 2023 2022 2021 primary geographical markets : americas $ 781, 763 $ 527, 081 $ 361, 351 emea 361, 566 257, 846 177, 448 asia pacific 140, 711 88, 855 51, 581 total $ 1, 284, 040 $ 873, 782 $ 590, 380 subscription product categories and services : mongodb atlas - related $ 808, 263 $ 492, 287 $ 270, 805 other subscription 426, 859 349, 760 294, 544 services 48, 918 31, 735 25, 031 total $ 1, 284, 040 $ 873, 782 $ 590, 380 customers located in the united states accounted for 55 %, 54 % and 56 % of total revenue for the years ended january 31, 2023, 2022 and 2021, respectively. customers located i\n"
     ]
    }
   ],
   "source": [
    "print(t.context[0:1000])"
   ]
  },
  {
   "cell_type": "markdown",
   "id": "7f722d5e",
   "metadata": {},
   "source": [
    "## Load LLama"
   ]
  },
  {
   "cell_type": "code",
   "execution_count": 24,
   "id": "51e01d26",
   "metadata": {
    "execution": {
     "iopub.execute_input": "2024-01-24T19:50:25.789394Z",
     "iopub.status.busy": "2024-01-24T19:50:25.789117Z",
     "iopub.status.idle": "2024-01-24T19:50:32.458953Z",
     "shell.execute_reply": "2024-01-24T19:50:32.458055Z",
     "shell.execute_reply.started": "2024-01-24T19:50:25.789353Z"
    }
   },
   "outputs": [
    {
     "name": "stderr",
     "output_type": "stream",
     "text": [
      "ggml_init_cublas: GGML_CUDA_FORCE_MMQ:   no\n",
      "ggml_init_cublas: CUDA_USE_TENSOR_CORES: yes\n",
      "ggml_init_cublas: found 1 CUDA devices:\n",
      "  Device 0: NVIDIA GeForce RTX 3090, compute capability 8.6\n"
     ]
    }
   ],
   "source": [
    "from langchain.callbacks.manager import CallbackManager\n",
    "from langchain.callbacks.streaming_stdout import StreamingStdOutCallbackHandler\n",
    "\n",
    "# https://python.langchain.com/docs/guides/local_llms\n",
    "t.llm = LlamaCpp(\n",
    "    model_path=t.llm_path,\n",
    "    n_gpu_layers=t.layers,\n",
    "    n_threads=10, \n",
    "    n_ctx=4096, \n",
    "    n_batch=512,\n",
    "    verbose=False,\n",
    "    f16_kv=True,\n",
    "    callback_manager=CallbackManager([StreamingStdOutCallbackHandler()]),\n",
    ")"
   ]
  },
  {
   "cell_type": "markdown",
   "id": "e9532b20",
   "metadata": {},
   "source": [
    "## Query LLaMa"
   ]
  },
  {
   "cell_type": "code",
   "execution_count": 25,
   "id": "e043e7c3",
   "metadata": {
    "execution": {
     "iopub.execute_input": "2024-01-24T19:50:32.460492Z",
     "iopub.status.busy": "2024-01-24T19:50:32.460156Z",
     "iopub.status.idle": "2024-01-24T19:50:32.465748Z",
     "shell.execute_reply": "2024-01-24T19:50:32.464756Z",
     "shell.execute_reply.started": "2024-01-24T19:50:32.460464Z"
    }
   },
   "outputs": [],
   "source": [
    "def ask(prompt, temp=0.8, top_p=0.95):\n",
    "    out = t.llm.invoke(\n",
    "        prompt, \n",
    "        max_tokens=512, \n",
    "        stop=[\"Q:\"], \n",
    "        temperature=temp,\n",
    "        top_p=top_p,\n",
    "        top_k=10,\n",
    "        repeat_penalty=1.2,\n",
    "    )\n",
    "    return out"
   ]
  },
  {
   "cell_type": "markdown",
   "id": "0df36653",
   "metadata": {},
   "source": [
    "Prompt Format:\n",
    "```\n",
    "<s>[INST] <<SYS>>\n",
    "{{ system_prompt }}\n",
    "<</SYS>>\n",
    "\n",
    "{{ user_message }} [/INST]\n",
    "```"
   ]
  },
  {
   "cell_type": "markdown",
   "id": "2494f057",
   "metadata": {},
   "source": [
    "### Query with RAG"
   ]
  },
  {
   "cell_type": "code",
   "execution_count": 26,
   "id": "3e7d422b",
   "metadata": {
    "execution": {
     "iopub.execute_input": "2024-01-24T19:50:32.467208Z",
     "iopub.status.busy": "2024-01-24T19:50:32.466935Z",
     "iopub.status.idle": "2024-01-24T19:50:32.476664Z",
     "shell.execute_reply": "2024-01-24T19:50:32.475822Z",
     "shell.execute_reply.started": "2024-01-24T19:50:32.467183Z"
    }
   },
   "outputs": [],
   "source": [
    "def ask_with_context(question, context):\n",
    "    full_prompt = (\n",
    "    \"<s>[INST]<<SYS>>\\n\"\n",
    "    + \"You are a helpful expert financial research assistant.\" \n",
    "    + \"You answer questions about about information contained in a financial report.\"\n",
    "    + \"You will be given the user's question, and the relevant informaton from \" \n",
    "    + \"the financial report. Answer the question using only this information\" \n",
    "    + \"\\n<</SYS>>\\n\\n\"\n",
    "    + \"Information: {context}\\n\"\n",
    "    + \"Question: {question}\\n\"\n",
    "    + \"Answer:\\n\"\n",
    "    + \"[/INST]\"\n",
    "    )\n",
    "    full_prompt = full_prompt.replace(\"{context}\", context)\n",
    "    full_prompt = full_prompt.replace(\"{question}\", question)\n",
    "    ask(full_prompt)"
   ]
  },
  {
   "cell_type": "code",
   "execution_count": 27,
   "id": "402bfe24",
   "metadata": {
    "execution": {
     "iopub.execute_input": "2024-01-24T19:50:32.477903Z",
     "iopub.status.busy": "2024-01-24T19:50:32.477656Z",
     "iopub.status.idle": "2024-01-24T19:50:32.488768Z",
     "shell.execute_reply": "2024-01-24T19:50:32.487924Z",
     "shell.execute_reply.started": "2024-01-24T19:50:32.477881Z"
    }
   },
   "outputs": [],
   "source": [
    "def find_context(question):\n",
    "    results = t.coll.aggregate([{\n",
    "    \"$vectorSearch\": {\n",
    "        \"queryVector\": t.emb_model.encode(question).tolist(),\n",
    "        \"path\": \"embedding\",\n",
    "        \"numCandidates\": 200,\n",
    "        \"limit\": 8,\n",
    "        \"index\": f\"{t.coll.name}_vector_index\"\n",
    "    }}])\n",
    "    result_texts = [d['text'] for d in results]\n",
    "    assert len(result_texts) > 0\n",
    "    context = \"\\n\\n\".join(result_texts)\n",
    "    return context"
   ]
  },
  {
   "cell_type": "code",
   "execution_count": 28,
   "id": "262fc197",
   "metadata": {
    "execution": {
     "iopub.execute_input": "2024-01-24T19:50:32.489957Z",
     "iopub.status.busy": "2024-01-24T19:50:32.489698Z",
     "iopub.status.idle": "2024-01-24T19:50:32.499197Z",
     "shell.execute_reply": "2024-01-24T19:50:32.498367Z",
     "shell.execute_reply.started": "2024-01-24T19:50:32.489934Z"
    }
   },
   "outputs": [],
   "source": [
    "def ask_with_rag(question):\n",
    "    context = find_context(question)\n",
    "    ask_with_context(question, context)"
   ]
  },
  {
   "cell_type": "code",
   "execution_count": 29,
   "id": "7482e189",
   "metadata": {
    "execution": {
     "iopub.execute_input": "2024-01-24T19:50:32.501258Z",
     "iopub.status.busy": "2024-01-24T19:50:32.500412Z",
     "iopub.status.idle": "2024-01-24T19:51:58.547421Z",
     "shell.execute_reply": "2024-01-24T19:51:58.546427Z",
     "shell.execute_reply.started": "2024-01-24T19:50:32.501224Z"
    }
   },
   "outputs": [
    {
     "name": "stdout",
     "output_type": "stream",
     "text": [
      "  Based on the information provided in the financial report, the total revenue for the year ended January 31, 2023 was $1,284.0 million.CPU times: user 2.15 s, sys: 603 ms, total: 2.75 s\n",
      "Wall time: 2.9 s\n"
     ]
    }
   ],
   "source": [
    "%%time\n",
    "ask_with_rag(\"What was the total revenue?\")"
   ]
  },
  {
   "cell_type": "code",
   "execution_count": 30,
   "id": "520691e0",
   "metadata": {
    "execution": {
     "iopub.execute_input": "2024-01-24T19:51:58.549041Z",
     "iopub.status.busy": "2024-01-24T19:51:58.548731Z",
     "iopub.status.idle": "2024-01-24T19:53:45.396493Z",
     "shell.execute_reply": "2024-01-24T19:53:45.395498Z",
     "shell.execute_reply.started": "2024-01-24T19:51:58.549015Z"
    }
   },
   "outputs": [
    {
     "name": "stdout",
     "output_type": "stream",
     "text": [
      "  Based on the information provided in the financial report, the operating income (loss) for the years ended January 31, 2023, 2022 and 2021 is as follows:\n",
      "\n",
      "Year Ended January 31,\n",
      "Operating Income (Loss):\n",
      "\n",
      "2023 - $(346,655)\n",
      "2022 - $(289,364)\n",
      "2021 - $(209,304)CPU times: user 3.73 s, sys: 545 ms, total: 4.28 s\n",
      "Wall time: 4.35 s\n"
     ]
    }
   ],
   "source": [
    "%%time\n",
    "ask_with_rag(\"What was the operating income or loss?\")"
   ]
  },
  {
   "cell_type": "code",
   "execution_count": 31,
   "id": "b04082d0",
   "metadata": {
    "execution": {
     "iopub.execute_input": "2024-01-24T19:53:45.398591Z",
     "iopub.status.busy": "2024-01-24T19:53:45.398149Z",
     "iopub.status.idle": "2024-01-24T19:55:00.667835Z",
     "shell.execute_reply": "2024-01-24T19:55:00.666807Z",
     "shell.execute_reply.started": "2024-01-24T19:53:45.398552Z"
    }
   },
   "outputs": [
    {
     "name": "stdout",
     "output_type": "stream",
     "text": [
      "  Based on the information provided, the operating income (loss) for the year ended January 31, 2022 was:\n",
      "\n",
      "Operating loss: $(302,889)CPU times: user 2.04 s, sys: 393 ms, total: 2.44 s\n",
      "Wall time: 2.56 s\n"
     ]
    }
   ],
   "source": [
    "%%time\n",
    "ask_with_rag(\"What was the operating income or loss in year 2022?\")"
   ]
  },
  {
   "cell_type": "code",
   "execution_count": 32,
   "id": "7c1b1fbf",
   "metadata": {
    "execution": {
     "iopub.execute_input": "2024-01-24T19:55:00.669323Z",
     "iopub.status.busy": "2024-01-24T19:55:00.669028Z",
     "iopub.status.idle": "2024-01-24T19:56:36.920756Z",
     "shell.execute_reply": "2024-01-24T19:56:36.919195Z",
     "shell.execute_reply.started": "2024-01-24T19:55:00.669297Z"
    }
   },
   "outputs": [
    {
     "name": "stdout",
     "output_type": "stream",
     "text": [
      "  Sure! Based on the information provided in the financial report, the total revenue for the year ended January 31, 2023 was $1,284.0 million, while the total revenue for the year ended January 31, 2022 was $873.8 million.\n",
      "\n",
      "Therefore, there is a difference of $410.2 million between the two years, representing a 47% increase in total revenue from 2022 to 2023.CPU times: user 3.9 s, sys: 523 ms, total: 4.42 s\n",
      "Wall time: 4.48 s\n"
     ]
    }
   ],
   "source": [
    "%%time\n",
    "ask_with_rag(\"Compare the total revenue between the years 2023 and 2022\")"
   ]
  },
  {
   "cell_type": "code",
   "execution_count": 33,
   "id": "79e9453d",
   "metadata": {
    "execution": {
     "iopub.execute_input": "2024-01-24T19:56:36.922345Z",
     "iopub.status.busy": "2024-01-24T19:56:36.922024Z",
     "iopub.status.idle": "2024-01-24T19:57:24.290307Z",
     "shell.execute_reply": "2024-01-24T19:57:24.289363Z",
     "shell.execute_reply.started": "2024-01-24T19:56:36.922316Z"
    }
   },
   "outputs": [
    {
     "name": "stdout",
     "output_type": "stream",
     "text": [
      "  Based on the information provided, the report covers the fiscal year ended January 31, 2023.CPU times: user 1.37 s, sys: 281 ms, total: 1.66 s\n",
      "Wall time: 1.79 s\n"
     ]
    }
   ],
   "source": [
    "%%time\n",
    "ask_with_rag(\"What time period does the report cover?\")"
   ]
  },
  {
   "cell_type": "code",
   "execution_count": 34,
   "id": "af194ea7",
   "metadata": {
    "execution": {
     "iopub.execute_input": "2024-01-24T19:57:24.291813Z",
     "iopub.status.busy": "2024-01-24T19:57:24.291519Z",
     "iopub.status.idle": "2024-01-24T19:59:04.713435Z",
     "shell.execute_reply": "2024-01-24T19:59:04.712531Z",
     "shell.execute_reply.started": "2024-01-24T19:57:24.291788Z"
    }
   },
   "outputs": [
    {
     "name": "stdout",
     "output_type": "stream",
     "text": [
      "  Based on the information provided in the financial report, there were no changes to the executive team during the period covered by the report. The signatures on the report indicate that the following individuals served as officers of the company as of March 17, 2023:\n",
      "\n",
      "* Dev Ittycheria, President and Chief Executive Officer\n",
      "* Michael Gordon, Chief Financial Officer\n",
      "* Thomas Bull, Chief Accounting Officer\n",
      "* Tom Killalea, Director\n",
      "* Archana Agrawal, Director\n",
      "* Roelof Botha, Director\n",
      "* Hope Cochran, Director\n",
      "* Francisco D'Souza, Director\n",
      "* Charles M. Hazard Jr., DirectorCPU times: user 4.41 s, sys: 599 ms, total: 5.01 s\n",
      "Wall time: 5.05 s\n"
     ]
    }
   ],
   "source": [
    "%%time\n",
    "ask_with_rag(\"Were there any changes to the executive team?\")"
   ]
  },
  {
   "cell_type": "markdown",
   "id": "a7a32e51",
   "metadata": {},
   "source": [
    "### Query Embedded Knowledge"
   ]
  },
  {
   "cell_type": "code",
   "execution_count": 35,
   "id": "a8f7952f",
   "metadata": {
    "execution": {
     "iopub.execute_input": "2024-01-24T19:59:04.715343Z",
     "iopub.status.busy": "2024-01-24T19:59:04.714964Z",
     "iopub.status.idle": "2024-01-24T19:59:04.720705Z",
     "shell.execute_reply": "2024-01-24T19:59:04.719791Z",
     "shell.execute_reply.started": "2024-01-24T19:59:04.715303Z"
    }
   },
   "outputs": [],
   "source": [
    "def ask_llm(question):\n",
    "    prompt = (\n",
    "        f\"<s>[INST]<<SYS>>\\n\"\n",
    "        + f\"You are a helpful expert financial research assistant.\" \n",
    "        + f\"\\n<</SYS>>\\n\\n\"\n",
    "        + f\"Question: {question}\\n\"\n",
    "        + f\"Answer:\\n\"\n",
    "        + f\"[/INST]\"\n",
    "    )\n",
    "    ask(prompt)"
   ]
  },
  {
   "cell_type": "code",
   "execution_count": 36,
   "id": "64fac622",
   "metadata": {
    "execution": {
     "iopub.execute_input": "2024-01-24T19:59:04.722097Z",
     "iopub.status.busy": "2024-01-24T19:59:04.721835Z",
     "iopub.status.idle": "2024-01-24T19:59:13.387494Z",
     "shell.execute_reply": "2024-01-24T19:59:13.386560Z",
     "shell.execute_reply.started": "2024-01-24T19:59:04.722073Z"
    }
   },
   "outputs": [
    {
     "name": "stdout",
     "output_type": "stream",
     "text": [
      "  As a helpful financial research assistant, I can provide you with the latest available financial information for MongoDB, Inc. (MDB). According to their annual report filed on Form 10-K with the Securities and Exchange Commission (SEC) for the fiscal year ended January 31, 2023, the total revenue of MongoDB was $854.7 million.CPU times: user 1.85 s, sys: 137 ms, total: 1.99 s\n",
      "Wall time: 1.91 s\n"
     ]
    }
   ],
   "source": [
    "%%time\n",
    "ask_llm(\"What was the total revenue of MongoDB in the year ended January 31, 2023?\")"
   ]
  },
  {
   "cell_type": "code",
   "execution_count": 37,
   "id": "3b32392d",
   "metadata": {
    "execution": {
     "iopub.execute_input": "2024-01-24T19:59:13.389218Z",
     "iopub.status.busy": "2024-01-24T19:59:13.388833Z",
     "iopub.status.idle": "2024-01-24T20:00:01.265674Z",
     "shell.execute_reply": "2024-01-24T20:00:01.264643Z",
     "shell.execute_reply.started": "2024-01-24T19:59:13.389183Z"
    }
   },
   "outputs": [
    {
     "name": "stdout",
     "output_type": "stream",
     "text": [
      "  Yes, there were some changes to the executive team at MongoDB during the year ended January 31, 2023. Here are the updates:\n",
      "\n",
      "1. CEO Succession Plan: In February 2022, MongoDB announced a CEO succession plan, where founder and then-CEO Dev Ittycheria would transition to the role of Executive Chairman, and former President and COO, Michael Gordon, would become the new CEO. The transition was effective as of January 1, 2023.\n",
      "2. CTO Departure: In March 2022, MongoDB's long-time CTO, Eliot Horowitz, announced his plans to step down from his role. He remained with the company until June 30, 2022, and was replaced by Dwight Merriman, who served as the company's first CTO and returned to MongoDB in a part-time advisory capacity.\n",
      "3. SVP of Worldwide Sales Appointment: In May 2022, MongoDB appointed John H. Piippo as Senior Vice President of Worldwide Sales. Piippo joined MongoDB from Zoom Video Communications, where he served as the Chief Revenue Officer.\n",
      "4. CMO Departure: In November 2022, MongoDB's Chief Marketing Officer (CMO), Sarah Tavel, announced her departure from the company after almost six years. She was succeeded by Liz Brenner, who joined MongoDB from Salesforce, where she served as Vice President of Global Communications and Corporate Marketing.\n",
      "5. New Board Member Appointment: In December 2022, MongoDB appointed Dr. Tiffany Fields to its board of directors. Fields is a seasoned technology executive with extensive experience in product development, marketing, and operations. She currently serves as the President and Chief Operating Officer of Qualtrics, an Experience Management company.\n",
      "\n",
      "These changes reflect MongoDB's ongoing efforts to strengthen its leadership team and position the company for continued growth and success in the competitive database and cloud computing markets.CPU times: user 9.93 s, sys: 679 ms, total: 10.6 s\n",
      "Wall time: 10.2 s\n"
     ]
    }
   ],
   "source": [
    "%%time\n",
    "ask_llm(\"Were there any changes to the executive team at MongoDB in the year ended January 31, 2023?\")"
   ]
  },
  {
   "cell_type": "markdown",
   "id": "76f12fd4",
   "metadata": {},
   "source": [
    "## Visualize Embeddings"
   ]
  },
  {
   "cell_type": "code",
   "execution_count": 38,
   "id": "79d2b39c",
   "metadata": {},
   "outputs": [],
   "source": [
    "v = Object()"
   ]
  },
  {
   "cell_type": "code",
   "execution_count": 39,
   "id": "e3983834",
   "metadata": {},
   "outputs": [],
   "source": [
    "v.embeddings = list(t.coll.find({}, {\"embedding\": 1}))"
   ]
  },
  {
   "cell_type": "code",
   "execution_count": 40,
   "id": "1ff992f6",
   "metadata": {},
   "outputs": [],
   "source": [
    "v.emb_values = [e['embedding'] for e in v.embeddings]"
   ]
  },
  {
   "cell_type": "code",
   "execution_count": 41,
   "id": "ca6ef2b7",
   "metadata": {},
   "outputs": [],
   "source": [
    "def umap_embeddings(emb, umap_t):\n",
    "    umap_emb = np.empty((len(emb),2))\n",
    "    for i, e in enumerate(tqdm(emb)): \n",
    "        umap_emb[i] = umap_t.transform([e])\n",
    "    return umap_emb"
   ]
  },
  {
   "cell_type": "code",
   "execution_count": 42,
   "id": "eeb308fe",
   "metadata": {},
   "outputs": [
    {
     "name": "stderr",
     "output_type": "stream",
     "text": [
      "/home/kalininalex/miniconda3/envs/py38/lib/python3.8/site-packages/umap/umap_.py:1943: UserWarning: n_jobs value -1 overridden to 1 by setting random_state. Use no seed for parallelism.\n",
      "  warn(f\"n_jobs value {self.n_jobs} overridden to 1 by setting random_state. Use no seed for parallelism.\")\n"
     ]
    }
   ],
   "source": [
    "# Projections are slow, so we'll cache them\n",
    "v.umap_all_emb_path = \"umap_emb_all_docs.temp.pickle\"\n",
    "\n",
    "v.umap_transform = umap.UMAP(\n",
    "    random_state=0, \n",
    "    transform_seed=0, \n",
    "    low_memory=False).fit(v.emb_values)\n",
    "\n",
    "if os.path.exists(v.umap_all_emb_path):\n",
    "    with open(v.umap_all_emb_path, \"rb\") as f:\n",
    "        v.umap_all = pickle.load(f)\n",
    "else:\n",
    "    v.umap_all = umap_embeddings(v.emb_values, v.umap_transform)\n",
    "    with open(v.umap_all_emb_path, \"wb\") as f:\n",
    "        pickle.dump(v.umap_all, f)"
   ]
  },
  {
   "cell_type": "code",
   "execution_count": 43,
   "id": "bf06a9e0",
   "metadata": {},
   "outputs": [],
   "source": [
    "v.question = \"What was the total revenue?\""
   ]
  },
  {
   "cell_type": "code",
   "execution_count": 44,
   "id": "fa2f1e8c",
   "metadata": {},
   "outputs": [
    {
     "data": {
      "text/plain": [
       "<matplotlib.collections.PathCollection at 0x7f4f92221130>"
      ]
     },
     "execution_count": 44,
     "metadata": {},
     "output_type": "execute_result"
    },
    {
     "data": {
      "image/png": "[encoded data removed]",
      "text/plain": [
       "<Figure size 640x480 with 1 Axes>"
      ]
     },
     "metadata": {},
     "output_type": "display_data"
    }
   ],
   "source": [
    "plt.figure()\n",
    "plt.scatter(v.umap_all[:, 0], v.umap_all[:, 1], s=15)"
   ]
  },
  {
   "cell_type": "code",
   "execution_count": 45,
   "id": "9be201e6",
   "metadata": {},
   "outputs": [],
   "source": [
    "v.results = t.coll.aggregate([{\n",
    "    \"$vectorSearch\": {\n",
    "        \"queryVector\": t.emb_model.encode(v.question).tolist(),\n",
    "        \"path\": \"embedding\",\n",
    "        \"numCandidates\": 200,\n",
    "        \"limit\": 8,\n",
    "        \"index\": f\"{t.coll.name}_vector_index\"\n",
    "    }}]) \n",
    "v.results = list(v.results)"
   ]
  },
  {
   "cell_type": "code",
   "execution_count": 46,
   "id": "6234b82f",
   "metadata": {},
   "outputs": [
    {
     "data": {
      "text/plain": [
       "8"
      ]
     },
     "execution_count": 46,
     "metadata": {},
     "output_type": "execute_result"
    }
   ],
   "source": [
    "len(v.results)"
   ]
  },
  {
   "cell_type": "code",
   "execution_count": 47,
   "id": "4981569f",
   "metadata": {},
   "outputs": [
    {
     "name": "stderr",
     "output_type": "stream",
     "text": [
      "100%|██████████| 1/1 [00:02<00:00,  2.04s/it]\n"
     ]
    }
   ],
   "source": [
    "v.umap_query = umap_embeddings([\n",
    "    t.emb_model.encode(v.question)\n",
    "], v.umap_transform)"
   ]
  },
  {
   "cell_type": "code",
   "execution_count": 48,
   "id": "d10cfbd2",
   "metadata": {},
   "outputs": [
    {
     "data": {
      "text/plain": [
       "array([[2.50955939, 2.24930382]])"
      ]
     },
     "execution_count": 48,
     "metadata": {},
     "output_type": "execute_result"
    }
   ],
   "source": [
    "v.umap_query"
   ]
  },
  {
   "cell_type": "code",
   "execution_count": 49,
   "id": "8eec5095",
   "metadata": {},
   "outputs": [
    {
     "name": "stderr",
     "output_type": "stream",
     "text": [
      "100%|██████████| 8/8 [00:03<00:00,  2.31it/s]\n"
     ]
    }
   ],
   "source": [
    "v.umap_results = umap_embeddings(\n",
    "    [d['embedding'] for d in v.results],\n",
    "    v.umap_transform\n",
    ")"
   ]
  },
  {
   "cell_type": "code",
   "execution_count": 50,
   "id": "9e769fd9",
   "metadata": {},
   "outputs": [
    {
     "data": {
      "text/plain": [
       "(8, 2)"
      ]
     },
     "execution_count": 50,
     "metadata": {},
     "output_type": "execute_result"
    }
   ],
   "source": [
    "v.umap_results.shape"
   ]
  },
  {
   "cell_type": "code",
   "execution_count": 51,
   "id": "f4233c9c",
   "metadata": {},
   "outputs": [
    {
     "data": {
      "text/plain": [
       "<matplotlib.collections.PathCollection at 0x7f4f92139d30>"
      ]
     },
     "execution_count": 51,
     "metadata": {},
     "output_type": "execute_result"
    },
    {
     "data": {
      "image/png": "[encoded data removed]",
      "text/plain": [
       "<Figure size 640x480 with 1 Axes>"
      ]
     },
     "metadata": {},
     "output_type": "display_data"
    }
   ],
   "source": [
    "plt.figure()\n",
    "plt.scatter(v.umap_all[:, 0], v.umap_all[:, 1], s=15, color=\"gray\")\n",
    "plt.scatter(v.umap_results[:, 0], v.umap_results[:, 1], s=15, color=\"blue\")\n",
    "plt.scatter(v.umap_query[:, 0], v.umap_query[:, 1], marker=\"x\", s=100, color=\"r\")"
   ]
  },
  {
   "cell_type": "markdown",
   "id": "9fb30f26",
   "metadata": {},
   "source": [
    "## Pitfalls"
   ]
  },
  {
   "cell_type": "markdown",
   "id": "c087c9c0",
   "metadata": {},
   "source": [
    "Vector search always returns results!"
   ]
  },
  {
   "cell_type": "code",
   "execution_count": 52,
   "id": "78391d3d",
   "metadata": {},
   "outputs": [
    {
     "name": "stdout",
     "output_type": "stream",
     "text": [
      "  Based on the information provided in the financial report, there is no mention of Tom Brady or any sports teams. The information only relates to MongoDB, Inc.'s financial statements and related notes. Therefore, I cannot answer your question about Tom Brady's team for 2024.CPU times: user 2.34 s, sys: 407 ms, total: 2.74 s\n",
      "Wall time: 2.87 s\n"
     ]
    }
   ],
   "source": [
    "%%time\n",
    "ask_with_rag(\"What team is Tom Brady playing for in 2024?\")"
   ]
  },
  {
   "cell_type": "code",
   "execution_count": 53,
   "id": "af89eaa5",
   "metadata": {},
   "outputs": [],
   "source": [
    "def query_and_plot_embeddings(coll, question, index_name, emb_model, umap_transform, umap_all):\n",
    "    t = None\n",
    "    v = None\n",
    "    results = coll.aggregate([{\n",
    "    \"$vectorSearch\": {\n",
    "        \"queryVector\": emb_model.encode(question).tolist(),\n",
    "        \"path\": \"embedding\",\n",
    "        \"numCandidates\": 200,\n",
    "        \"limit\": 8,\n",
    "        \"index\": index_name\n",
    "    }}]) \n",
    "    results = list(results)\n",
    "    umap_query = umap_embeddings(\n",
    "        [emb_model.encode(question)], \n",
    "        umap_transform)\n",
    "    umap_results = umap_embeddings(\n",
    "        [d['embedding'] for d in results],\n",
    "        umap_transform)\n",
    "    plt.figure()\n",
    "    plt.scatter(umap_all[:, 0], umap_all[:, 1], s=15, color=\"gray\")\n",
    "    plt.scatter(umap_results[:, 0], umap_results[:, 1], s=15, color=\"blue\")\n",
    "    plt.scatter(umap_query[:, 0], umap_query[:, 1], marker=\"x\", s=100, color=\"r\")"
   ]
  },
  {
   "cell_type": "code",
   "execution_count": 54,
   "id": "07fd89ac",
   "metadata": {},
   "outputs": [
    {
     "name": "stderr",
     "output_type": "stream",
     "text": [
      "100%|██████████| 1/1 [00:00<00:00,  1.60it/s]\n",
      "100%|██████████| 8/8 [00:03<00:00,  2.31it/s]\n"
     ]
    },
    {
     "data": {
      "image/png": "[encoded data removed]",
      "text/plain": [
       "<Figure size 640x480 with 1 Axes>"
      ]
     },
     "metadata": {},
     "output_type": "display_data"
    }
   ],
   "source": [
    "query_and_plot_embeddings(\n",
    "    t.coll,\n",
    "    \"What team is Tom Brady playing for in 2024?\",\n",
    "    f\"{t.coll.name}_vector_index\",\n",
    "    t.emb_model,\n",
    "    v.umap_transform,\n",
    "    v.umap_all\n",
    ")"
   ]
  },
  {
   "cell_type": "markdown",
   "id": "639c1293",
   "metadata": {},
   "source": [
    "## LangChain"
   ]
  },
  {
   "cell_type": "markdown",
   "id": "d0900ef7",
   "metadata": {},
   "source": [
    "We'll use LangChain to tie this all together into a simple API."
   ]
  },
  {
   "cell_type": "code",
   "execution_count": 55,
   "id": "d918f73b",
   "metadata": {
    "execution": {
     "iopub.execute_input": "2024-01-24T20:00:01.267148Z",
     "iopub.status.busy": "2024-01-24T20:00:01.266861Z",
     "iopub.status.idle": "2024-01-24T20:00:03.568766Z",
     "shell.execute_reply": "2024-01-24T20:00:03.567948Z",
     "shell.execute_reply.started": "2024-01-24T20:00:01.267123Z"
    }
   },
   "outputs": [],
   "source": [
    "# https://python.langchain.com/docs/integrations/vectorstores/mongodb_atlas\n",
    "\n",
    "from langchain.chains import RetrievalQA\n",
    "from langchain_community.vectorstores import MongoDBAtlasVectorSearch\n",
    "from langchain_community.embeddings import HuggingFaceEmbeddings"
   ]
  },
  {
   "cell_type": "code",
   "execution_count": 56,
   "id": "b2a38519",
   "metadata": {
    "execution": {
     "iopub.execute_input": "2024-01-24T20:00:03.570707Z",
     "iopub.status.busy": "2024-01-24T20:00:03.569924Z",
     "iopub.status.idle": "2024-01-24T20:00:03.574778Z",
     "shell.execute_reply": "2024-01-24T20:00:03.573910Z",
     "shell.execute_reply.started": "2024-01-24T20:00:03.570669Z"
    }
   },
   "outputs": [],
   "source": [
    "l = Object()\n",
    "l.llm = t.llm"
   ]
  },
  {
   "cell_type": "code",
   "execution_count": 57,
   "id": "aece5711",
   "metadata": {
    "execution": {
     "iopub.execute_input": "2024-01-24T20:00:03.576144Z",
     "iopub.status.busy": "2024-01-24T20:00:03.575860Z",
     "iopub.status.idle": "2024-01-24T20:00:04.079574Z",
     "shell.execute_reply": "2024-01-24T20:00:04.078438Z",
     "shell.execute_reply.started": "2024-01-24T20:00:03.576119Z"
    }
   },
   "outputs": [],
   "source": [
    "l.lang_emb = HuggingFaceEmbeddings(model_name=\"multi-qa-mpnet-base-cos-v1\")"
   ]
  },
  {
   "cell_type": "markdown",
   "id": "e36dbbdb",
   "metadata": {},
   "source": [
    "Check that the embeddings model returns embeddings of the correct size of 768:"
   ]
  },
  {
   "cell_type": "code",
   "execution_count": 58,
   "id": "205babb4",
   "metadata": {
    "execution": {
     "iopub.execute_input": "2024-01-24T20:00:04.081361Z",
     "iopub.status.busy": "2024-01-24T20:00:04.080960Z",
     "iopub.status.idle": "2024-01-24T20:00:04.239367Z",
     "shell.execute_reply": "2024-01-24T20:00:04.238405Z",
     "shell.execute_reply.started": "2024-01-24T20:00:04.081321Z"
    }
   },
   "outputs": [
    {
     "data": {
      "text/plain": [
       "768"
      ]
     },
     "execution_count": 58,
     "metadata": {},
     "output_type": "execute_result"
    }
   ],
   "source": [
    "len(l.lang_emb.embed_documents(['This is a test document'])[0])"
   ]
  },
  {
   "cell_type": "code",
   "execution_count": 59,
   "id": "daf044b2",
   "metadata": {
    "execution": {
     "iopub.execute_input": "2024-01-24T20:00:04.241406Z",
     "iopub.status.busy": "2024-01-24T20:00:04.240985Z",
     "iopub.status.idle": "2024-01-24T20:00:04.246135Z",
     "shell.execute_reply": "2024-01-24T20:00:04.245263Z",
     "shell.execute_reply.started": "2024-01-24T20:00:04.241356Z"
    }
   },
   "outputs": [],
   "source": [
    "l.vector_search = MongoDBAtlasVectorSearch(\n",
    "    t.coll, \n",
    "    l.lang_emb, \n",
    "    index_name=\"mdb_vector_index\",\n",
    "    embedding_key=\"embedding\")"
   ]
  },
  {
   "cell_type": "code",
   "execution_count": 60,
   "id": "ee77fed2",
   "metadata": {
    "execution": {
     "iopub.execute_input": "2024-01-24T20:00:04.247634Z",
     "iopub.status.busy": "2024-01-24T20:00:04.247275Z",
     "iopub.status.idle": "2024-01-24T20:00:04.527297Z",
     "shell.execute_reply": "2024-01-24T20:00:04.526081Z",
     "shell.execute_reply.started": "2024-01-24T20:00:04.247601Z"
    }
   },
   "outputs": [],
   "source": [
    "l.results = list(l.vector_search.max_marginal_relevance_search(\n",
    "    query=\"What was the total revenue?\",\n",
    "    k = 8,\n",
    "))"
   ]
  },
  {
   "cell_type": "code",
   "execution_count": 61,
   "id": "9e928f65",
   "metadata": {
    "execution": {
     "iopub.execute_input": "2024-01-24T20:00:04.536442Z",
     "iopub.status.busy": "2024-01-24T20:00:04.533143Z",
     "iopub.status.idle": "2024-01-24T20:00:04.549402Z",
     "shell.execute_reply": "2024-01-24T20:00:04.547888Z",
     "shell.execute_reply.started": "2024-01-24T20:00:04.536391Z"
    }
   },
   "outputs": [
    {
     "data": {
      "text/plain": [
       "8"
      ]
     },
     "execution_count": 61,
     "metadata": {},
     "output_type": "execute_result"
    }
   ],
   "source": [
    "len(l.results)"
   ]
  },
  {
   "cell_type": "markdown",
   "id": "75802772",
   "metadata": {},
   "source": [
    "### Make a Retriever Object"
   ]
  },
  {
   "cell_type": "code",
   "execution_count": 62,
   "id": "7c791d78",
   "metadata": {
    "execution": {
     "iopub.execute_input": "2024-01-24T20:00:04.558590Z",
     "iopub.status.busy": "2024-01-24T20:00:04.555396Z",
     "iopub.status.idle": "2024-01-24T20:00:04.566953Z",
     "shell.execute_reply": "2024-01-24T20:00:04.565665Z",
     "shell.execute_reply.started": "2024-01-24T20:00:04.558541Z"
    }
   },
   "outputs": [],
   "source": [
    "l.retriever = l.vector_search.as_retriever(search_kwargs={\"k\": 8})"
   ]
  },
  {
   "cell_type": "markdown",
   "id": "43147e3d",
   "metadata": {},
   "source": [
    "### Make the end-to-end chain object"
   ]
  },
  {
   "cell_type": "code",
   "execution_count": 63,
   "id": "1e4f9e98",
   "metadata": {
    "execution": {
     "iopub.execute_input": "2024-01-24T20:00:04.576916Z",
     "iopub.status.busy": "2024-01-24T20:00:04.573188Z",
     "iopub.status.idle": "2024-01-24T20:00:04.586586Z",
     "shell.execute_reply": "2024-01-24T20:00:04.585322Z",
     "shell.execute_reply.started": "2024-01-24T20:00:04.576868Z"
    }
   },
   "outputs": [],
   "source": [
    "l.qa = RetrievalQA.from_chain_type(\n",
    "    llm=l.llm, \n",
    "    retriever=l.retriever)"
   ]
  },
  {
   "cell_type": "markdown",
   "id": "2c440184",
   "metadata": {},
   "source": [
    "### Query LLM with LangChain"
   ]
  },
  {
   "cell_type": "code",
   "execution_count": 64,
   "id": "17267264",
   "metadata": {
    "execution": {
     "iopub.execute_input": "2024-01-24T20:00:04.592235Z",
     "iopub.status.busy": "2024-01-24T20:00:04.590575Z",
     "iopub.status.idle": "2024-01-24T20:01:26.445363Z",
     "shell.execute_reply": "2024-01-24T20:01:26.444260Z",
     "shell.execute_reply.started": "2024-01-24T20:00:04.592191Z"
    }
   },
   "outputs": [
    {
     "name": "stdout",
     "output_type": "stream",
     "text": [
      " Based on the information provided, the total revenue for the year ended January 31, 2023 was $1,284.0 million.CPU times: user 2.18 s, sys: 622 ms, total: 2.81 s\n",
      "Wall time: 2.72 s\n"
     ]
    },
    {
     "data": {
      "text/plain": [
       "{'query': 'What was the total revenue?',\n",
       " 'result': ' Based on the information provided, the total revenue for the year ended January 31, 2023 was $1,284.0 million.'}"
      ]
     },
     "execution_count": 64,
     "metadata": {},
     "output_type": "execute_result"
    }
   ],
   "source": [
    "%%time\n",
    "l.qa.invoke(\"What was the total revenue?\")"
   ]
  },
  {
   "cell_type": "code",
   "execution_count": 65,
   "id": "ef5f0866",
   "metadata": {
    "execution": {
     "iopub.execute_input": "2024-01-24T20:01:26.447174Z",
     "iopub.status.busy": "2024-01-24T20:01:26.446791Z",
     "iopub.status.idle": "2024-01-24T20:02:11.596024Z",
     "shell.execute_reply": "2024-01-24T20:02:11.595013Z",
     "shell.execute_reply.started": "2024-01-24T20:01:26.447138Z"
    }
   },
   "outputs": [
    {
     "name": "stdout",
     "output_type": "stream",
     "text": [
      " The report covers the fiscal year ended January 31, 2023.CPU times: user 1.2 s, sys: 296 ms, total: 1.5 s\n",
      "Wall time: 1.74 s\n"
     ]
    },
    {
     "data": {
      "text/plain": [
       "{'query': 'What time period does the report cover?',\n",
       " 'result': ' The report covers the fiscal year ended January 31, 2023.'}"
      ]
     },
     "execution_count": 65,
     "metadata": {},
     "output_type": "execute_result"
    }
   ],
   "source": [
    "%%time\n",
    "l.qa.invoke(\"What time period does the report cover?\")"
   ]
  },
  {
   "cell_type": "code",
   "execution_count": null,
   "id": "6fcb42fc",
   "metadata": {},
   "outputs": [],
   "source": []
  }
 ],
 "metadata": {
  "kaggle": {
   "accelerator": "nvidiaTeslaT4",
   "dataSources": [
    {
     "datasetId": 4347140,
     "sourceId": 7468084,
     "sourceType": "datasetVersion"
    },
    {
     "modelInstanceId": 3097,
     "sourceId": 4302,
     "sourceType": "modelInstanceVersion"
    }
   ],
   "isGpuEnabled": true,
   "isInternetEnabled": true,
   "language": "python",
   "sourceType": "notebook"
  },
  "kernelspec": {
   "display_name": "Python 3 (ipykernel)",
   "language": "python",
   "name": "python3"
  },
  "language_info": {
   "codemirror_mode": {
    "name": "ipython",
    "version": 3
   },
   "file_extension": ".py",
   "mimetype": "text/x-python",
   "name": "python",
   "nbconvert_exporter": "python",
   "pygments_lexer": "ipython3",
   "version": "3.8.12"
  },
  "toc": {
   "base_numbering": 1,
   "nav_menu": {},
   "number_sections": true,
   "sideBar": true,
   "skip_h1_title": false,
   "title_cell": "Table of Contents",
   "title_sidebar": "Contents",
   "toc_cell": false,
   "toc_position": {
    "height": "calc(100% - 180px)",
    "left": "10px",
    "top": "150px",
    "width": "275.992px"
   },
   "toc_section_display": true,
   "toc_window_display": true
  },
  "varInspector": {
   "cols": {
    "lenName": 16,
    "lenType": 16,
    "lenVar": 40
   },
   "kernels_config": {
    "python": {
     "delete_cmd_postfix": "",
     "delete_cmd_prefix": "del ",
     "library": "var_list.py",
     "varRefreshCmd": "print(var_dic_list())"
    },
    "r": {
     "delete_cmd_postfix": ") ",
     "delete_cmd_prefix": "rm(",
     "library": "var_list.r",
     "varRefreshCmd": "cat(var_dic_list()) "
    }
   },
   "types_to_exclude": [
    "module",
    "function",
    "builtin_function_or_method",
    "instance",
    "_Feature"
   ],
   "window_display": false
  }
 },
 "nbformat": 4,
 "nbformat_minor": 5
}
