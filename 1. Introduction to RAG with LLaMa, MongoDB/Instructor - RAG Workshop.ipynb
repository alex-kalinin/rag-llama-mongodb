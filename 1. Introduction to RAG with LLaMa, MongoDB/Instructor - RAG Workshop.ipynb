{
 "cells": [
  {
   "cell_type": "markdown",
   "id": "c81886a5",
   "metadata": {},
   "source": [
    "**Prerequisite**\n",
    "1. Download LLama Model locally\n",
    "  1. https://huggingface.co/TheBloke/Llama-2-13B-chat-GGUF/tree/main\n",
    "2. Preload Sentence Transformer model (run the preload code below)\n",
    "\n",
    "**Plan**\n",
    "\n",
    "1. Use PDF document (e.g. a financial report)\n",
    "2. Split using SentenceTransformer\n",
    "3. Load to MongoDB\n",
    "4. Search \n",
    "5. Add a prompt\n",
    "6. Generate"
   ]
  },
  {
   "cell_type": "code",
   "execution_count": 12,
   "id": "7512454b",
   "metadata": {
    "execution": {
     "iopub.execute_input": "2024-01-24T19:46:59.300773Z",
     "iopub.status.busy": "2024-01-24T19:46:59.300509Z",
     "iopub.status.idle": "2024-01-24T19:46:59.311785Z",
     "shell.execute_reply": "2024-01-24T19:46:59.310932Z",
     "shell.execute_reply.started": "2024-01-24T19:46:59.300749Z"
    }
   },
   "outputs": [],
   "source": [
    "import os\n",
    "KAGGLE = os.environ.get('KAGGLE_KERNEL_RUN_TYPE', '') != ''"
   ]
  },
  {
   "cell_type": "code",
   "execution_count": 13,
   "id": "e3fa78cc",
   "metadata": {},
   "outputs": [],
   "source": [
    "# We will keep all global variables in an object to not pullute the global namespace.\n",
    "class Object(object):\n",
    "    pass"
   ]
  },
  {
   "cell_type": "code",
   "execution_count": 14,
   "id": "257a6fc0",
   "metadata": {},
   "outputs": [],
   "source": [
    "t = Object()"
   ]
  },
  {
   "cell_type": "markdown",
   "id": "8c573c79",
   "metadata": {},
   "source": [
    "## Llama Config"
   ]
  },
  {
   "cell_type": "code",
   "execution_count": 15,
   "id": "d29b6e6e",
   "metadata": {
    "execution": {
     "iopub.execute_input": "2024-01-24T19:49:13.671977Z",
     "iopub.status.busy": "2024-01-24T19:49:13.671596Z",
     "iopub.status.idle": "2024-01-24T19:49:13.677290Z",
     "shell.execute_reply": "2024-01-24T19:49:13.676286Z",
     "shell.execute_reply.started": "2024-01-24T19:49:13.671931Z"
    }
   },
   "outputs": [],
   "source": [
    "# t.model_path = \"../../data\"\n",
    "if KAGGLE:\n",
    "    t.llm_path = \"/kaggle/working/llama-2-13b-chat.Q6_K.gguf\"\n",
    "    t.layers = 50\n",
    "else:    \n",
    "#    t.model_path = \"../../../data\"\n",
    "    t.model_path = \"../../../data\"\n",
    "    t.llm_path = f\"{t.model_path}/llama/llama-2-13b-chat.Q6_K.gguf\"\n",
    "    t.layers = 50"
   ]
  },
  {
   "cell_type": "markdown",
   "id": "184ce8aa",
   "metadata": {},
   "source": [
    "## Install Packages"
   ]
  },
  {
   "cell_type": "code",
   "execution_count": 16,
   "id": "103f9686",
   "metadata": {
    "execution": {
     "iopub.execute_input": "2024-01-24T19:43:42.309205Z",
     "iopub.status.busy": "2024-01-24T19:43:42.308952Z",
     "iopub.status.idle": "2024-01-24T19:45:03.746654Z",
     "shell.execute_reply": "2024-01-24T19:45:03.745363Z",
     "shell.execute_reply.started": "2024-01-24T19:43:42.309181Z"
    }
   },
   "outputs": [],
   "source": [
    "if KAGGLE:\n",
    "    !pip install langchain\n",
    "    !pip install sentence-transformers\n",
    "    !pip install \"pymongo[srv]\"\n",
    "    !pip install typing-inspect==0.8.0 typing_extensions==4.5.0\n",
    "    !pip install pypdf"
   ]
  },
  {
   "cell_type": "code",
   "execution_count": 17,
   "id": "1669e348",
   "metadata": {
    "execution": {
     "iopub.execute_input": "2024-01-24T19:45:03.748968Z",
     "iopub.status.busy": "2024-01-24T19:45:03.748673Z",
     "iopub.status.idle": "2024-01-24T19:46:36.094906Z",
     "shell.execute_reply": "2024-01-24T19:46:36.093868Z",
     "shell.execute_reply.started": "2024-01-24T19:45:03.748942Z"
    }
   },
   "outputs": [],
   "source": [
    "if KAGGLE:\n",
    "    !CMAKE_ARGS=\"-DLLAMA_CUBLAS=on\" pip install llama-cpp-python==0.2.25 --force-reinstall --upgrade --no-cache-dir"
   ]
  },
  {
   "cell_type": "code",
   "execution_count": 18,
   "id": "dc805881",
   "metadata": {
    "execution": {
     "iopub.execute_input": "2024-01-24T19:46:36.097031Z",
     "iopub.status.busy": "2024-01-24T19:46:36.096637Z",
     "iopub.status.idle": "2024-01-24T19:46:51.863826Z",
     "shell.execute_reply": "2024-01-24T19:46:51.862598Z",
     "shell.execute_reply.started": "2024-01-24T19:46:36.096992Z"
    }
   },
   "outputs": [],
   "source": [
    "if KAGGLE:\n",
    "    !pip install -U numpy==1.24.1"
   ]
  },
  {
   "cell_type": "markdown",
   "id": "ca4e5ffe",
   "metadata": {},
   "source": [
    "## Pre-load Models"
   ]
  },
  {
   "cell_type": "code",
   "execution_count": 19,
   "id": "47e08f12",
   "metadata": {
    "execution": {
     "iopub.execute_input": "2024-01-24T19:46:51.867085Z",
     "iopub.status.busy": "2024-01-24T19:46:51.866771Z",
     "iopub.status.idle": "2024-01-24T19:46:51.871988Z",
     "shell.execute_reply": "2024-01-24T19:46:51.871123Z",
     "shell.execute_reply.started": "2024-01-24T19:46:51.867055Z"
    }
   },
   "outputs": [],
   "source": [
    "def preload():\n",
    "    s = SentenceTransformersTokenTextSplitter()\n",
    "    emb = SentenceTransformer('sentence-transformers/multi-qa-mpnet-base-cos-v1')"
   ]
  },
  {
   "cell_type": "markdown",
   "id": "405eff0f",
   "metadata": {},
   "source": [
    "## Imports"
   ]
  },
  {
   "cell_type": "code",
   "execution_count": 20,
   "id": "94e07582",
   "metadata": {
    "execution": {
     "iopub.execute_input": "2024-01-24T19:46:51.873876Z",
     "iopub.status.busy": "2024-01-24T19:46:51.873531Z",
     "iopub.status.idle": "2024-01-24T19:46:59.293675Z",
     "shell.execute_reply": "2024-01-24T19:46:59.292828Z",
     "shell.execute_reply.started": "2024-01-24T19:46:51.873843Z"
    }
   },
   "outputs": [],
   "source": [
    "from pymongo import MongoClient\n",
    "import os\n",
    "from llama_cpp import Llama\n",
    "from langchain_community.llms import LlamaCpp\n",
    "import torch\n",
    "import umap\n",
    "from tqdm import tqdm\n",
    "# https://www.sbert.net/docs/pretrained_models.html#model-overview\n",
    "# Sentence BERT, based on BERT\n",
    "from sentence_transformers import SentenceTransformer\n",
    "# https://api.python.langchain.com/en/latest/text_splitter/langchain.text_splitter.RecursiveCharacterTextSplitter.ht\n",
    "# https://api.python.langchain.com/en/latest/text_splitter/langchain.text_splitter.SentenceTransformersTokenTextSplitter.html\n",
    "from langchain.text_splitter import (\n",
    "    RecursiveCharacterTextSplitter, \n",
    "    SentenceTransformersTokenTextSplitter\n",
    ")\n",
    "from pypdf import PdfReader\n",
    "import ctypes\n",
    "import matplotlib.pyplot as plt\n",
    "import pickle\n",
    "import numpy as np\n",
    "\n",
    "from llama_cpp import llama_log_set\n",
    "# def my_log_callback(level, message, user_data):\n",
    "#     pass\n",
    "# log_callback = ctypes.CFUNCTYPE(None, ctypes.c_int, ctypes.c_char_p, ctypes.c_void_p)(my_log_callback)\n",
    "# llama_log_set(log_callback, ctypes.c_void_p())"
   ]
  },
  {
   "cell_type": "markdown",
   "id": "e86f2b1d",
   "metadata": {},
   "source": [
    "## MongoDB Config"
   ]
  },
  {
   "cell_type": "code",
   "execution_count": 21,
   "id": "ebeffff9",
   "metadata": {
    "execution": {
     "iopub.execute_input": "2024-01-24T19:46:59.313846Z",
     "iopub.status.busy": "2024-01-24T19:46:59.312983Z",
     "iopub.status.idle": "2024-01-24T19:47:00.021320Z",
     "shell.execute_reply": "2024-01-24T19:47:00.020443Z",
     "shell.execute_reply.started": "2024-01-24T19:46:59.313813Z"
    }
   },
   "outputs": [
    {
     "name": "stdout",
     "output_type": "stream",
     "text": [
      "Pinged your deployment. You successfully connected to MongoDB!\n"
     ]
    }
   ],
   "source": [
    "if KAGGLE:\n",
    "    from kaggle_secrets import UserSecretsClient\n",
    "    user_secrets = UserSecretsClient()\n",
    "    t.uri = user_secrets.get_secret(\"MONGODB_URI\")\n",
    "else:\n",
    "    t.uri = os.environ[\"MONGODB_URI\"]\n",
    "# Create a new client and connect to the server\n",
    "t.client = MongoClient(t.uri)\n",
    "# Send a ping to confirm a successful connection\n",
    "try:\n",
    "    t.client.admin.command('ping')\n",
    "    print(\"Pinged your deployment. You successfully connected to MongoDB!\")\n",
    "except Exception as e:\n",
    "    print(e)"
   ]
  },
  {
   "cell_type": "code",
   "execution_count": 22,
   "id": "10fdd315",
   "metadata": {
    "execution": {
     "iopub.execute_input": "2024-01-24T19:47:00.023015Z",
     "iopub.status.busy": "2024-01-24T19:47:00.022721Z",
     "iopub.status.idle": "2024-01-24T19:47:00.027496Z",
     "shell.execute_reply": "2024-01-24T19:47:00.026621Z",
     "shell.execute_reply.started": "2024-01-24T19:47:00.022990Z"
    }
   },
   "outputs": [],
   "source": [
    "t.db = t.client.rag_llama\n",
    "t.coll = t.db.mdb"
   ]
  },
  {
   "cell_type": "code",
   "execution_count": 23,
   "id": "89379dbd",
   "metadata": {
    "execution": {
     "iopub.execute_input": "2024-01-24T19:47:00.031155Z",
     "iopub.status.busy": "2024-01-24T19:47:00.030878Z",
     "iopub.status.idle": "2024-01-24T19:48:19.392846Z",
     "shell.execute_reply": "2024-01-24T19:48:19.391957Z",
     "shell.execute_reply.started": "2024-01-24T19:47:00.031131Z"
    }
   },
   "outputs": [],
   "source": [
    "if KAGGLE:\n",
    "    !wget https://huggingface.co/TheBloke/Llama-2-13B-chat-GGUF/resolve/main/llama-2-13b-chat.Q6_K.gguf    \n",
    "    preload()"
   ]
  },
  {
   "cell_type": "markdown",
   "id": "7e4e54ff",
   "metadata": {},
   "source": [
    "## Load and Parse Documents"
   ]
  },
  {
   "cell_type": "code",
   "execution_count": 24,
   "id": "8be35e74",
   "metadata": {
    "execution": {
     "iopub.execute_input": "2024-01-24T19:49:13.679294Z",
     "iopub.status.busy": "2024-01-24T19:49:13.679012Z",
     "iopub.status.idle": "2024-01-24T19:49:48.555595Z",
     "shell.execute_reply": "2024-01-24T19:49:48.554779Z",
     "shell.execute_reply.started": "2024-01-24T19:49:13.679269Z"
    }
   },
   "outputs": [],
   "source": [
    "# t.reader = PdfReader(\"data/brk-2023-q3.pdf\")\n",
    "# t.reader = PdfReader(\"data/msft-2022.pdf\")\n",
    "if KAGGLE:\n",
    "    t.reader = PdfReader(f\"../input/mdb-pdf/{t.coll.name}-2022.pdf\")\n",
    "else:\n",
    "    t.reader = PdfReader(f\"data/{t.coll.name}-2022.pdf\")\n",
    "t.pages = [p.extract_text().strip() for p in t.reader.pages]"
   ]
  },
  {
   "cell_type": "markdown",
   "id": "1f4a371b",
   "metadata": {},
   "source": [
    "Pages are of various sizes. We need to split into chunks that fit into the model window, specifically, the BERT embedding 256-token sized window. \n",
    "\n",
    "So we'll join all pages, and use the SentenceTransformer splitter to split the doc into the chunks of the right size."
   ]
  },
  {
   "cell_type": "code",
   "execution_count": 25,
   "id": "52186f8c",
   "metadata": {
    "execution": {
     "iopub.execute_input": "2024-01-24T19:49:48.556910Z",
     "iopub.status.busy": "2024-01-24T19:49:48.556633Z",
     "iopub.status.idle": "2024-01-24T19:49:48.561149Z",
     "shell.execute_reply": "2024-01-24T19:49:48.560172Z",
     "shell.execute_reply.started": "2024-01-24T19:49:48.556885Z"
    }
   },
   "outputs": [],
   "source": [
    "# print(t.pages[10])"
   ]
  },
  {
   "cell_type": "code",
   "execution_count": 26,
   "id": "cf75f798",
   "metadata": {
    "execution": {
     "iopub.execute_input": "2024-01-24T19:49:48.562903Z",
     "iopub.status.busy": "2024-01-24T19:49:48.562511Z",
     "iopub.status.idle": "2024-01-24T19:49:48.593178Z",
     "shell.execute_reply": "2024-01-24T19:49:48.592352Z",
     "shell.execute_reply.started": "2024-01-24T19:49:48.562866Z"
    }
   },
   "outputs": [
    {
     "data": {
      "text/plain": [
       "573"
      ]
     },
     "execution_count": 26,
     "metadata": {},
     "output_type": "execute_result"
    }
   ],
   "source": [
    "t.ch_splitter =  RecursiveCharacterTextSplitter(\n",
    "    separators=[\"\\n\\n\", \"\\n\", \". \", \" \", \"\"],\n",
    "    chunk_size=1024,\n",
    "    chunk_overlap=0\n",
    ")\n",
    "t.ch_chunks = t.ch_splitter.split_text(\"\\n\".join(t.pages))\n",
    "len(t.ch_chunks)"
   ]
  },
  {
   "cell_type": "code",
   "execution_count": 27,
   "id": "85a488de",
   "metadata": {
    "execution": {
     "iopub.execute_input": "2024-01-24T19:49:48.596138Z",
     "iopub.status.busy": "2024-01-24T19:49:48.595869Z",
     "iopub.status.idle": "2024-01-24T19:50:01.793247Z",
     "shell.execute_reply": "2024-01-24T19:50:01.792408Z",
     "shell.execute_reply.started": "2024-01-24T19:49:48.596113Z"
    }
   },
   "outputs": [
    {
     "data": {
      "text/plain": [
       "594"
      ]
     },
     "execution_count": 27,
     "metadata": {},
     "output_type": "execute_result"
    }
   ],
   "source": [
    "t.token_splitter = SentenceTransformersTokenTextSplitter(chunk_overlap=10, tokens_per_chunk=256)\n",
    "t.token_chunks = []\n",
    "for ch in t.ch_chunks:\n",
    "    t.token_chunks.extend(t.token_splitter.split_text(ch))\n",
    "len(t.token_chunks)"
   ]
  },
  {
   "cell_type": "markdown",
   "id": "047bc76f",
   "metadata": {},
   "source": [
    "## Embedding Model"
   ]
  },
  {
   "cell_type": "code",
   "execution_count": 28,
   "id": "9a6a3c4b",
   "metadata": {
    "execution": {
     "iopub.execute_input": "2024-01-24T19:50:01.794948Z",
     "iopub.status.busy": "2024-01-24T19:50:01.794324Z",
     "iopub.status.idle": "2024-01-24T19:50:02.227250Z",
     "shell.execute_reply": "2024-01-24T19:50:02.226498Z",
     "shell.execute_reply.started": "2024-01-24T19:50:01.794916Z"
    }
   },
   "outputs": [],
   "source": [
    "t.emb_model = SentenceTransformer('sentence-transformers/multi-qa-mpnet-base-cos-v1')"
   ]
  },
  {
   "cell_type": "code",
   "execution_count": 29,
   "id": "cfd0495c",
   "metadata": {
    "execution": {
     "iopub.execute_input": "2024-01-24T19:50:02.228990Z",
     "iopub.status.busy": "2024-01-24T19:50:02.228596Z",
     "iopub.status.idle": "2024-01-24T19:50:03.415302Z",
     "shell.execute_reply": "2024-01-24T19:50:03.414236Z",
     "shell.execute_reply.started": "2024-01-24T19:50:02.228952Z"
    }
   },
   "outputs": [
    {
     "data": {
      "text/plain": [
       "768"
      ]
     },
     "execution_count": 29,
     "metadata": {},
     "output_type": "execute_result"
    }
   ],
   "source": [
    "len(t.emb_model.encode(t.token_chunks[21]).tolist())"
   ]
  },
  {
   "cell_type": "markdown",
   "id": "7e2cbb30",
   "metadata": {},
   "source": [
    "## Upload documents"
   ]
  },
  {
   "cell_type": "code",
   "execution_count": 30,
   "id": "03656f93",
   "metadata": {
    "execution": {
     "iopub.execute_input": "2024-01-24T19:50:03.417659Z",
     "iopub.status.busy": "2024-01-24T19:50:03.417030Z",
     "iopub.status.idle": "2024-01-24T19:50:03.594357Z",
     "shell.execute_reply": "2024-01-24T19:50:03.593358Z",
     "shell.execute_reply.started": "2024-01-24T19:50:03.417621Z"
    }
   },
   "outputs": [
    {
     "data": {
      "text/plain": [
       "10"
      ]
     },
     "execution_count": 30,
     "metadata": {},
     "output_type": "execute_result"
    }
   ],
   "source": [
    "len(list(t.coll.find().limit(10)))"
   ]
  },
  {
   "cell_type": "code",
   "execution_count": 31,
   "id": "b7f0695b",
   "metadata": {
    "execution": {
     "iopub.execute_input": "2024-01-24T19:50:25.349110Z",
     "iopub.status.busy": "2024-01-24T19:50:25.348728Z",
     "iopub.status.idle": "2024-01-24T19:50:25.355555Z",
     "shell.execute_reply": "2024-01-24T19:50:25.352428Z",
     "shell.execute_reply.started": "2024-01-24T19:50:25.349075Z"
    }
   },
   "outputs": [],
   "source": [
    "# t.docs = []\n",
    "# for t.ch in t.token_chunks:\n",
    "#     t.doc = {\n",
    "#         \"text\": t.ch,\n",
    "#         \"embedding\": t.emb_model.encode(t.ch).tolist()\n",
    "#     }\n",
    "#     t.docs.append(t.doc)\n",
    "#\n",
    "# _ = t.coll.insert_many(t.docs)"
   ]
  },
  {
   "cell_type": "code",
   "execution_count": 32,
   "id": "9dd6d1b4",
   "metadata": {
    "execution": {
     "iopub.execute_input": "2024-01-24T19:50:25.357209Z",
     "iopub.status.busy": "2024-01-24T19:50:25.356860Z",
     "iopub.status.idle": "2024-01-24T19:50:25.574680Z",
     "shell.execute_reply": "2024-01-24T19:50:25.573777Z",
     "shell.execute_reply.started": "2024-01-24T19:50:25.357165Z"
    }
   },
   "outputs": [
    {
     "data": {
      "text/plain": [
       "10"
      ]
     },
     "execution_count": 32,
     "metadata": {},
     "output_type": "execute_result"
    }
   ],
   "source": [
    "len(list(t.coll.find().limit(10)))"
   ]
  },
  {
   "cell_type": "markdown",
   "id": "b20fbf58",
   "metadata": {},
   "source": [
    "## Query Index"
   ]
  },
  {
   "cell_type": "markdown",
   "id": "d63dca3a",
   "metadata": {},
   "source": [
    "Index definition:\n",
    "\n",
    "```\n",
    "{\n",
    "  \"fields\": [\n",
    "    {\n",
    "      \"type\": \"vector\",\n",
    "      \"path\": \"emb\",\n",
    "      \"numDimensions\": 768,\n",
    "      \"similarity\": \"dotProduct\"\n",
    "    }\n",
    "  ]\n",
    "}\n",
    "```"
   ]
  },
  {
   "cell_type": "code",
   "execution_count": 33,
   "id": "2b8a04bb",
   "metadata": {
    "execution": {
     "iopub.execute_input": "2024-01-24T19:50:25.576176Z",
     "iopub.status.busy": "2024-01-24T19:50:25.575836Z",
     "iopub.status.idle": "2024-01-24T19:50:25.777400Z",
     "shell.execute_reply": "2024-01-24T19:50:25.776707Z",
     "shell.execute_reply.started": "2024-01-24T19:50:25.576143Z"
    }
   },
   "outputs": [],
   "source": [
    "t.query = \"What was the total revenue?\"\n",
    "\n",
    "t.results = t.coll.aggregate([{\n",
    "    \"$vectorSearch\": {\n",
    "        \"queryVector\": t.emb_model.encode(t.query).tolist(),\n",
    "        \"path\": \"embedding\",\n",
    "        \"numCandidates\": 100,\n",
    "        \"limit\": 8,\n",
    "        \"index\": f\"{t.coll.name}_vector_index\"\n",
    "    }}])\n",
    "\n",
    "t.context = \"\\n\\n\".join([d['text'] for d in t.results])"
   ]
  },
  {
   "cell_type": "code",
   "execution_count": 34,
   "id": "d8c4dd13",
   "metadata": {
    "execution": {
     "iopub.execute_input": "2024-01-24T19:50:25.778719Z",
     "iopub.status.busy": "2024-01-24T19:50:25.778418Z",
     "iopub.status.idle": "2024-01-24T19:50:25.783509Z",
     "shell.execute_reply": "2024-01-24T19:50:25.782578Z",
     "shell.execute_reply.started": "2024-01-24T19:50:25.778693Z"
    }
   },
   "outputs": [
    {
     "name": "stdout",
     "output_type": "stream",
     "text": [
      "operations ( in thousands of u. s. dollars, except share and per share data ) years ended january 31, 2023 2022 2021 revenue : subscription $ 1, 235, 122 $ 842, 047 $ 565, 349 services 48, 918 31, 735 25, 031\n",
      "\n",
      "the following table presents the company ’ s revenues disaggregated by primary geographical markets, subscription product categories and services ( in thousands ) : years ended january 31, 2023 2022 2021 primary geographical markets : americas $ 781, 763 $ 527, 081 $ 361, 351 emea 361, 566 257, 846 177, 448 asia pacific 140, 711 88, 855 51, 581 total $ 1, 284, 040 $ 873, 782 $ 590, 380 subscription product categories and services : mongodb atlas - related $ 808, 263 $ 492, 287 $ 270, 805 other subscription 426, 859 349, 760 294, 544 services 48, 918 31, 735 25, 031 total $ 1, 284, 040 $ 873, 782 $ 590, 380 customers located in the united states accounted for 55 %, 54 % and 56 % of total revenue for the years ended january 31, 2023, 2022 and 2021, respectively. customers located i\n"
     ]
    }
   ],
   "source": [
    "print(t.context[0:1000])"
   ]
  },
  {
   "cell_type": "markdown",
   "id": "7f722d5e",
   "metadata": {},
   "source": [
    "## Load LLama"
   ]
  },
  {
   "cell_type": "code",
   "execution_count": 35,
   "id": "51e01d26",
   "metadata": {
    "execution": {
     "iopub.execute_input": "2024-01-24T19:50:25.789394Z",
     "iopub.status.busy": "2024-01-24T19:50:25.789117Z",
     "iopub.status.idle": "2024-01-24T19:50:32.458953Z",
     "shell.execute_reply": "2024-01-24T19:50:32.458055Z",
     "shell.execute_reply.started": "2024-01-24T19:50:25.789353Z"
    }
   },
   "outputs": [
    {
     "name": "stderr",
     "output_type": "stream",
     "text": [
      "ggml_init_cublas: GGML_CUDA_FORCE_MMQ:   no\n",
      "ggml_init_cublas: CUDA_USE_TENSOR_CORES: yes\n",
      "ggml_init_cublas: found 1 CUDA devices:\n",
      "  Device 0: NVIDIA GeForce RTX 3090, compute capability 8.6\n",
      "llama_model_loader: loaded meta data with 19 key-value pairs and 363 tensors from ../../../data/llama/llama-2-13b-chat.Q6_K.gguf (version GGUF V2)\n",
      "llama_model_loader: - tensor    0:                token_embd.weight q6_K     [  5120, 32000,     1,     1 ]\n",
      "llama_model_loader: - tensor    1:           blk.0.attn_norm.weight f32      [  5120,     1,     1,     1 ]\n",
      "llama_model_loader: - tensor    2:            blk.0.ffn_down.weight q6_K     [ 13824,  5120,     1,     1 ]\n",
      "llama_model_loader: - tensor    3:            blk.0.ffn_gate.weight q6_K     [  5120, 13824,     1,     1 ]\n",
      "llama_model_loader: - tensor    4:              blk.0.ffn_up.weight q6_K     [  5120, 13824,     1,     1 ]\n",
      "llama_model_loader: - tensor    5:            blk.0.ffn_norm.weight f32      [  5120,     1,     1,     1 ]\n",
      "llama_model_loader: - tensor    6:              blk.0.attn_k.weight q6_K     [  5120,  5120,     1,     1 ]\n",
      "llama_model_loader: - tensor    7:         blk.0.attn_output.weight q6_K     [  5120,  5120,     1,     1 ]\n",
      "llama_model_loader: - tensor    8:              blk.0.attn_q.weight q6_K     [  5120,  5120,     1,     1 ]\n",
      "llama_model_loader: - tensor    9:              blk.0.attn_v.weight q6_K     [  5120,  5120,     1,     1 ]\n",
      "llama_model_loader: - tensor   10:           blk.1.attn_norm.weight f32      [  5120,     1,     1,     1 ]\n",
      "llama_model_loader: - tensor   11:            blk.1.ffn_down.weight q6_K     [ 13824,  5120,     1,     1 ]\n",
      "llama_model_loader: - tensor   12:            blk.1.ffn_gate.weight q6_K     [  5120, 13824,     1,     1 ]\n",
      "llama_model_loader: - tensor   13:              blk.1.ffn_up.weight q6_K     [  5120, 13824,     1,     1 ]\n",
      "llama_model_loader: - tensor   14:            blk.1.ffn_norm.weight f32      [  5120,     1,     1,     1 ]\n",
      "llama_model_loader: - tensor   15:              blk.1.attn_k.weight q6_K     [  5120,  5120,     1,     1 ]\n",
      "llama_model_loader: - tensor   16:         blk.1.attn_output.weight q6_K     [  5120,  5120,     1,     1 ]\n",
      "llama_model_loader: - tensor   17:              blk.1.attn_q.weight q6_K     [  5120,  5120,     1,     1 ]\n",
      "llama_model_loader: - tensor   18:              blk.1.attn_v.weight q6_K     [  5120,  5120,     1,     1 ]\n",
      "llama_model_loader: - tensor   19:          blk.10.attn_norm.weight f32      [  5120,     1,     1,     1 ]\n",
      "llama_model_loader: - tensor   20:           blk.10.ffn_down.weight q6_K     [ 13824,  5120,     1,     1 ]\n",
      "llama_model_loader: - tensor   21:           blk.10.ffn_gate.weight q6_K     [  5120, 13824,     1,     1 ]\n",
      "llama_model_loader: - tensor   22:             blk.10.ffn_up.weight q6_K     [  5120, 13824,     1,     1 ]\n",
      "llama_model_loader: - tensor   23:           blk.10.ffn_norm.weight f32      [  5120,     1,     1,     1 ]\n",
      "llama_model_loader: - tensor   24:             blk.10.attn_k.weight q6_K     [  5120,  5120,     1,     1 ]\n",
      "llama_model_loader: - tensor   25:        blk.10.attn_output.weight q6_K     [  5120,  5120,     1,     1 ]\n",
      "llama_model_loader: - tensor   26:             blk.10.attn_q.weight q6_K     [  5120,  5120,     1,     1 ]\n",
      "llama_model_loader: - tensor   27:             blk.10.attn_v.weight q6_K     [  5120,  5120,     1,     1 ]\n",
      "llama_model_loader: - tensor   28:          blk.11.attn_norm.weight f32      [  5120,     1,     1,     1 ]\n",
      "llama_model_loader: - tensor   29:           blk.11.ffn_down.weight q6_K     [ 13824,  5120,     1,     1 ]\n",
      "llama_model_loader: - tensor   30:           blk.11.ffn_gate.weight q6_K     [  5120, 13824,     1,     1 ]\n",
      "llama_model_loader: - tensor   31:             blk.11.ffn_up.weight q6_K     [  5120, 13824,     1,     1 ]\n",
      "llama_model_loader: - tensor   32:           blk.11.ffn_norm.weight f32      [  5120,     1,     1,     1 ]\n",
      "llama_model_loader: - tensor   33:             blk.11.attn_k.weight q6_K     [  5120,  5120,     1,     1 ]\n",
      "llama_model_loader: - tensor   34:        blk.11.attn_output.weight q6_K     [  5120,  5120,     1,     1 ]\n",
      "llama_model_loader: - tensor   35:             blk.11.attn_q.weight q6_K     [  5120,  5120,     1,     1 ]\n",
      "llama_model_loader: - tensor   36:             blk.11.attn_v.weight q6_K     [  5120,  5120,     1,     1 ]\n",
      "llama_model_loader: - tensor   37:          blk.12.attn_norm.weight f32      [  5120,     1,     1,     1 ]\n",
      "llama_model_loader: - tensor   38:           blk.12.ffn_down.weight q6_K     [ 13824,  5120,     1,     1 ]\n",
      "llama_model_loader: - tensor   39:           blk.12.ffn_gate.weight q6_K     [  5120, 13824,     1,     1 ]\n",
      "llama_model_loader: - tensor   40:             blk.12.ffn_up.weight q6_K     [  5120, 13824,     1,     1 ]\n",
      "llama_model_loader: - tensor   41:           blk.12.ffn_norm.weight f32      [  5120,     1,     1,     1 ]\n",
      "llama_model_loader: - tensor   42:             blk.12.attn_k.weight q6_K     [  5120,  5120,     1,     1 ]\n",
      "llama_model_loader: - tensor   43:        blk.12.attn_output.weight q6_K     [  5120,  5120,     1,     1 ]\n",
      "llama_model_loader: - tensor   44:             blk.12.attn_q.weight q6_K     [  5120,  5120,     1,     1 ]\n",
      "llama_model_loader: - tensor   45:             blk.12.attn_v.weight q6_K     [  5120,  5120,     1,     1 ]\n",
      "llama_model_loader: - tensor   46:          blk.13.attn_norm.weight f32      [  5120,     1,     1,     1 ]\n",
      "llama_model_loader: - tensor   47:           blk.13.ffn_down.weight q6_K     [ 13824,  5120,     1,     1 ]\n",
      "llama_model_loader: - tensor   48:           blk.13.ffn_gate.weight q6_K     [  5120, 13824,     1,     1 ]\n",
      "llama_model_loader: - tensor   49:             blk.13.ffn_up.weight q6_K     [  5120, 13824,     1,     1 ]\n",
      "llama_model_loader: - tensor   50:           blk.13.ffn_norm.weight f32      [  5120,     1,     1,     1 ]\n",
      "llama_model_loader: - tensor   51:             blk.13.attn_k.weight q6_K     [  5120,  5120,     1,     1 ]\n",
      "llama_model_loader: - tensor   52:        blk.13.attn_output.weight q6_K     [  5120,  5120,     1,     1 ]\n",
      "llama_model_loader: - tensor   53:             blk.13.attn_q.weight q6_K     [  5120,  5120,     1,     1 ]\n",
      "llama_model_loader: - tensor   54:             blk.13.attn_v.weight q6_K     [  5120,  5120,     1,     1 ]\n",
      "llama_model_loader: - tensor   55:          blk.14.attn_norm.weight f32      [  5120,     1,     1,     1 ]\n",
      "llama_model_loader: - tensor   56:           blk.14.ffn_down.weight q6_K     [ 13824,  5120,     1,     1 ]\n",
      "llama_model_loader: - tensor   57:           blk.14.ffn_gate.weight q6_K     [  5120, 13824,     1,     1 ]\n",
      "llama_model_loader: - tensor   58:             blk.14.ffn_up.weight q6_K     [  5120, 13824,     1,     1 ]\n",
      "llama_model_loader: - tensor   59:           blk.14.ffn_norm.weight f32      [  5120,     1,     1,     1 ]\n",
      "llama_model_loader: - tensor   60:             blk.14.attn_k.weight q6_K     [  5120,  5120,     1,     1 ]\n",
      "llama_model_loader: - tensor   61:        blk.14.attn_output.weight q6_K     [  5120,  5120,     1,     1 ]\n",
      "llama_model_loader: - tensor   62:             blk.14.attn_q.weight q6_K     [  5120,  5120,     1,     1 ]\n",
      "llama_model_loader: - tensor   63:             blk.14.attn_v.weight q6_K     [  5120,  5120,     1,     1 ]\n",
      "llama_model_loader: - tensor   64:             blk.15.attn_k.weight q6_K     [  5120,  5120,     1,     1 ]\n",
      "llama_model_loader: - tensor   65:             blk.15.attn_q.weight q6_K     [  5120,  5120,     1,     1 ]\n",
      "llama_model_loader: - tensor   66:           blk.2.attn_norm.weight f32      [  5120,     1,     1,     1 ]\n",
      "llama_model_loader: - tensor   67:            blk.2.ffn_down.weight q6_K     [ 13824,  5120,     1,     1 ]\n",
      "llama_model_loader: - tensor   68:            blk.2.ffn_gate.weight q6_K     [  5120, 13824,     1,     1 ]\n",
      "llama_model_loader: - tensor   69:              blk.2.ffn_up.weight q6_K     [  5120, 13824,     1,     1 ]\n",
      "llama_model_loader: - tensor   70:            blk.2.ffn_norm.weight f32      [  5120,     1,     1,     1 ]\n",
      "llama_model_loader: - tensor   71:              blk.2.attn_k.weight q6_K     [  5120,  5120,     1,     1 ]\n",
      "llama_model_loader: - tensor   72:         blk.2.attn_output.weight q6_K     [  5120,  5120,     1,     1 ]\n",
      "llama_model_loader: - tensor   73:              blk.2.attn_q.weight q6_K     [  5120,  5120,     1,     1 ]\n",
      "llama_model_loader: - tensor   74:              blk.2.attn_v.weight q6_K     [  5120,  5120,     1,     1 ]\n",
      "llama_model_loader: - tensor   75:           blk.3.attn_norm.weight f32      [  5120,     1,     1,     1 ]\n",
      "llama_model_loader: - tensor   76:            blk.3.ffn_down.weight q6_K     [ 13824,  5120,     1,     1 ]\n",
      "llama_model_loader: - tensor   77:            blk.3.ffn_gate.weight q6_K     [  5120, 13824,     1,     1 ]\n",
      "llama_model_loader: - tensor   78:              blk.3.ffn_up.weight q6_K     [  5120, 13824,     1,     1 ]\n",
      "llama_model_loader: - tensor   79:            blk.3.ffn_norm.weight f32      [  5120,     1,     1,     1 ]\n",
      "llama_model_loader: - tensor   80:              blk.3.attn_k.weight q6_K     [  5120,  5120,     1,     1 ]\n",
      "llama_model_loader: - tensor   81:         blk.3.attn_output.weight q6_K     [  5120,  5120,     1,     1 ]\n",
      "llama_model_loader: - tensor   82:              blk.3.attn_q.weight q6_K     [  5120,  5120,     1,     1 ]\n",
      "llama_model_loader: - tensor   83:              blk.3.attn_v.weight q6_K     [  5120,  5120,     1,     1 ]\n",
      "llama_model_loader: - tensor   84:           blk.4.attn_norm.weight f32      [  5120,     1,     1,     1 ]\n",
      "llama_model_loader: - tensor   85:            blk.4.ffn_down.weight q6_K     [ 13824,  5120,     1,     1 ]\n",
      "llama_model_loader: - tensor   86:            blk.4.ffn_gate.weight q6_K     [  5120, 13824,     1,     1 ]\n",
      "llama_model_loader: - tensor   87:              blk.4.ffn_up.weight q6_K     [  5120, 13824,     1,     1 ]\n",
      "llama_model_loader: - tensor   88:            blk.4.ffn_norm.weight f32      [  5120,     1,     1,     1 ]\n",
      "llama_model_loader: - tensor   89:              blk.4.attn_k.weight q6_K     [  5120,  5120,     1,     1 ]\n",
      "llama_model_loader: - tensor   90:         blk.4.attn_output.weight q6_K     [  5120,  5120,     1,     1 ]\n",
      "llama_model_loader: - tensor   91:              blk.4.attn_q.weight q6_K     [  5120,  5120,     1,     1 ]\n",
      "llama_model_loader: - tensor   92:              blk.4.attn_v.weight q6_K     [  5120,  5120,     1,     1 ]\n",
      "llama_model_loader: - tensor   93:           blk.5.attn_norm.weight f32      [  5120,     1,     1,     1 ]\n",
      "llama_model_loader: - tensor   94:            blk.5.ffn_down.weight q6_K     [ 13824,  5120,     1,     1 ]\n",
      "llama_model_loader: - tensor   95:            blk.5.ffn_gate.weight q6_K     [  5120, 13824,     1,     1 ]\n",
      "llama_model_loader: - tensor   96:              blk.5.ffn_up.weight q6_K     [  5120, 13824,     1,     1 ]\n",
      "llama_model_loader: - tensor   97:            blk.5.ffn_norm.weight f32      [  5120,     1,     1,     1 ]\n",
      "llama_model_loader: - tensor   98:              blk.5.attn_k.weight q6_K     [  5120,  5120,     1,     1 ]\n",
      "llama_model_loader: - tensor   99:         blk.5.attn_output.weight q6_K     [  5120,  5120,     1,     1 ]\n",
      "llama_model_loader: - tensor  100:              blk.5.attn_q.weight q6_K     [  5120,  5120,     1,     1 ]\n",
      "llama_model_loader: - tensor  101:              blk.5.attn_v.weight q6_K     [  5120,  5120,     1,     1 ]\n",
      "llama_model_loader: - tensor  102:           blk.6.attn_norm.weight f32      [  5120,     1,     1,     1 ]\n",
      "llama_model_loader: - tensor  103:            blk.6.ffn_down.weight q6_K     [ 13824,  5120,     1,     1 ]\n",
      "llama_model_loader: - tensor  104:            blk.6.ffn_gate.weight q6_K     [  5120, 13824,     1,     1 ]\n",
      "llama_model_loader: - tensor  105:              blk.6.ffn_up.weight q6_K     [  5120, 13824,     1,     1 ]\n",
      "llama_model_loader: - tensor  106:            blk.6.ffn_norm.weight f32      [  5120,     1,     1,     1 ]\n",
      "llama_model_loader: - tensor  107:              blk.6.attn_k.weight q6_K     [  5120,  5120,     1,     1 ]\n",
      "llama_model_loader: - tensor  108:         blk.6.attn_output.weight q6_K     [  5120,  5120,     1,     1 ]\n",
      "llama_model_loader: - tensor  109:              blk.6.attn_q.weight q6_K     [  5120,  5120,     1,     1 ]\n",
      "llama_model_loader: - tensor  110:              blk.6.attn_v.weight q6_K     [  5120,  5120,     1,     1 ]\n",
      "llama_model_loader: - tensor  111:           blk.7.attn_norm.weight f32      [  5120,     1,     1,     1 ]\n",
      "llama_model_loader: - tensor  112:            blk.7.ffn_down.weight q6_K     [ 13824,  5120,     1,     1 ]\n",
      "llama_model_loader: - tensor  113:            blk.7.ffn_gate.weight q6_K     [  5120, 13824,     1,     1 ]\n",
      "llama_model_loader: - tensor  114:              blk.7.ffn_up.weight q6_K     [  5120, 13824,     1,     1 ]\n",
      "llama_model_loader: - tensor  115:            blk.7.ffn_norm.weight f32      [  5120,     1,     1,     1 ]\n",
      "llama_model_loader: - tensor  116:              blk.7.attn_k.weight q6_K     [  5120,  5120,     1,     1 ]\n",
      "llama_model_loader: - tensor  117:         blk.7.attn_output.weight q6_K     [  5120,  5120,     1,     1 ]\n",
      "llama_model_loader: - tensor  118:              blk.7.attn_q.weight q6_K     [  5120,  5120,     1,     1 ]\n",
      "llama_model_loader: - tensor  119:              blk.7.attn_v.weight q6_K     [  5120,  5120,     1,     1 ]\n",
      "llama_model_loader: - tensor  120:           blk.8.attn_norm.weight f32      [  5120,     1,     1,     1 ]\n",
      "llama_model_loader: - tensor  121:            blk.8.ffn_down.weight q6_K     [ 13824,  5120,     1,     1 ]\n",
      "llama_model_loader: - tensor  122:            blk.8.ffn_gate.weight q6_K     [  5120, 13824,     1,     1 ]\n",
      "llama_model_loader: - tensor  123:              blk.8.ffn_up.weight q6_K     [  5120, 13824,     1,     1 ]\n",
      "llama_model_loader: - tensor  124:            blk.8.ffn_norm.weight f32      [  5120,     1,     1,     1 ]\n",
      "llama_model_loader: - tensor  125:              blk.8.attn_k.weight q6_K     [  5120,  5120,     1,     1 ]\n",
      "llama_model_loader: - tensor  126:         blk.8.attn_output.weight q6_K     [  5120,  5120,     1,     1 ]\n",
      "llama_model_loader: - tensor  127:              blk.8.attn_q.weight q6_K     [  5120,  5120,     1,     1 ]\n",
      "llama_model_loader: - tensor  128:              blk.8.attn_v.weight q6_K     [  5120,  5120,     1,     1 ]\n",
      "llama_model_loader: - tensor  129:           blk.9.attn_norm.weight f32      [  5120,     1,     1,     1 ]\n",
      "llama_model_loader: - tensor  130:            blk.9.ffn_down.weight q6_K     [ 13824,  5120,     1,     1 ]\n",
      "llama_model_loader: - tensor  131:            blk.9.ffn_gate.weight q6_K     [  5120, 13824,     1,     1 ]\n",
      "llama_model_loader: - tensor  132:              blk.9.ffn_up.weight q6_K     [  5120, 13824,     1,     1 ]\n",
      "llama_model_loader: - tensor  133:            blk.9.ffn_norm.weight f32      [  5120,     1,     1,     1 ]\n",
      "llama_model_loader: - tensor  134:              blk.9.attn_k.weight q6_K     [  5120,  5120,     1,     1 ]\n",
      "llama_model_loader: - tensor  135:         blk.9.attn_output.weight q6_K     [  5120,  5120,     1,     1 ]\n",
      "llama_model_loader: - tensor  136:              blk.9.attn_q.weight q6_K     [  5120,  5120,     1,     1 ]\n",
      "llama_model_loader: - tensor  137:              blk.9.attn_v.weight q6_K     [  5120,  5120,     1,     1 ]\n",
      "llama_model_loader: - tensor  138:          blk.15.attn_norm.weight f32      [  5120,     1,     1,     1 ]\n",
      "llama_model_loader: - tensor  139:           blk.15.ffn_down.weight q6_K     [ 13824,  5120,     1,     1 ]\n",
      "llama_model_loader: - tensor  140:           blk.15.ffn_gate.weight q6_K     [  5120, 13824,     1,     1 ]\n",
      "llama_model_loader: - tensor  141:             blk.15.ffn_up.weight q6_K     [  5120, 13824,     1,     1 ]\n",
      "llama_model_loader: - tensor  142:           blk.15.ffn_norm.weight f32      [  5120,     1,     1,     1 ]\n",
      "llama_model_loader: - tensor  143:        blk.15.attn_output.weight q6_K     [  5120,  5120,     1,     1 ]\n",
      "llama_model_loader: - tensor  144:             blk.15.attn_v.weight q6_K     [  5120,  5120,     1,     1 ]\n",
      "llama_model_loader: - tensor  145:          blk.16.attn_norm.weight f32      [  5120,     1,     1,     1 ]\n",
      "llama_model_loader: - tensor  146:           blk.16.ffn_down.weight q6_K     [ 13824,  5120,     1,     1 ]\n",
      "llama_model_loader: - tensor  147:           blk.16.ffn_gate.weight q6_K     [  5120, 13824,     1,     1 ]\n",
      "llama_model_loader: - tensor  148:             blk.16.ffn_up.weight q6_K     [  5120, 13824,     1,     1 ]\n",
      "llama_model_loader: - tensor  149:           blk.16.ffn_norm.weight f32      [  5120,     1,     1,     1 ]\n",
      "llama_model_loader: - tensor  150:             blk.16.attn_k.weight q6_K     [  5120,  5120,     1,     1 ]\n",
      "llama_model_loader: - tensor  151:        blk.16.attn_output.weight q6_K     [  5120,  5120,     1,     1 ]\n",
      "llama_model_loader: - tensor  152:             blk.16.attn_q.weight q6_K     [  5120,  5120,     1,     1 ]\n",
      "llama_model_loader: - tensor  153:             blk.16.attn_v.weight q6_K     [  5120,  5120,     1,     1 ]\n",
      "llama_model_loader: - tensor  154:          blk.17.attn_norm.weight f32      [  5120,     1,     1,     1 ]\n",
      "llama_model_loader: - tensor  155:           blk.17.ffn_down.weight q6_K     [ 13824,  5120,     1,     1 ]\n",
      "llama_model_loader: - tensor  156:           blk.17.ffn_gate.weight q6_K     [  5120, 13824,     1,     1 ]\n",
      "llama_model_loader: - tensor  157:             blk.17.ffn_up.weight q6_K     [  5120, 13824,     1,     1 ]\n",
      "llama_model_loader: - tensor  158:           blk.17.ffn_norm.weight f32      [  5120,     1,     1,     1 ]\n",
      "llama_model_loader: - tensor  159:             blk.17.attn_k.weight q6_K     [  5120,  5120,     1,     1 ]\n",
      "llama_model_loader: - tensor  160:        blk.17.attn_output.weight q6_K     [  5120,  5120,     1,     1 ]\n",
      "llama_model_loader: - tensor  161:             blk.17.attn_q.weight q6_K     [  5120,  5120,     1,     1 ]\n",
      "llama_model_loader: - tensor  162:             blk.17.attn_v.weight q6_K     [  5120,  5120,     1,     1 ]\n",
      "llama_model_loader: - tensor  163:          blk.18.attn_norm.weight f32      [  5120,     1,     1,     1 ]\n",
      "llama_model_loader: - tensor  164:           blk.18.ffn_down.weight q6_K     [ 13824,  5120,     1,     1 ]\n",
      "llama_model_loader: - tensor  165:           blk.18.ffn_gate.weight q6_K     [  5120, 13824,     1,     1 ]\n",
      "llama_model_loader: - tensor  166:             blk.18.ffn_up.weight q6_K     [  5120, 13824,     1,     1 ]\n",
      "llama_model_loader: - tensor  167:           blk.18.ffn_norm.weight f32      [  5120,     1,     1,     1 ]\n",
      "llama_model_loader: - tensor  168:             blk.18.attn_k.weight q6_K     [  5120,  5120,     1,     1 ]\n",
      "llama_model_loader: - tensor  169:        blk.18.attn_output.weight q6_K     [  5120,  5120,     1,     1 ]\n",
      "llama_model_loader: - tensor  170:             blk.18.attn_q.weight q6_K     [  5120,  5120,     1,     1 ]\n",
      "llama_model_loader: - tensor  171:             blk.18.attn_v.weight q6_K     [  5120,  5120,     1,     1 ]\n",
      "llama_model_loader: - tensor  172:          blk.19.attn_norm.weight f32      [  5120,     1,     1,     1 ]\n",
      "llama_model_loader: - tensor  173:           blk.19.ffn_down.weight q6_K     [ 13824,  5120,     1,     1 ]\n",
      "llama_model_loader: - tensor  174:           blk.19.ffn_gate.weight q6_K     [  5120, 13824,     1,     1 ]\n",
      "llama_model_loader: - tensor  175:             blk.19.ffn_up.weight q6_K     [  5120, 13824,     1,     1 ]\n",
      "llama_model_loader: - tensor  176:           blk.19.ffn_norm.weight f32      [  5120,     1,     1,     1 ]\n",
      "llama_model_loader: - tensor  177:             blk.19.attn_k.weight q6_K     [  5120,  5120,     1,     1 ]\n",
      "llama_model_loader: - tensor  178:        blk.19.attn_output.weight q6_K     [  5120,  5120,     1,     1 ]\n",
      "llama_model_loader: - tensor  179:             blk.19.attn_q.weight q6_K     [  5120,  5120,     1,     1 ]\n",
      "llama_model_loader: - tensor  180:             blk.19.attn_v.weight q6_K     [  5120,  5120,     1,     1 ]\n",
      "llama_model_loader: - tensor  181:          blk.20.attn_norm.weight f32      [  5120,     1,     1,     1 ]\n",
      "llama_model_loader: - tensor  182:           blk.20.ffn_down.weight q6_K     [ 13824,  5120,     1,     1 ]\n",
      "llama_model_loader: - tensor  183:           blk.20.ffn_gate.weight q6_K     [  5120, 13824,     1,     1 ]\n",
      "llama_model_loader: - tensor  184:             blk.20.ffn_up.weight q6_K     [  5120, 13824,     1,     1 ]\n",
      "llama_model_loader: - tensor  185:           blk.20.ffn_norm.weight f32      [  5120,     1,     1,     1 ]\n",
      "llama_model_loader: - tensor  186:             blk.20.attn_k.weight q6_K     [  5120,  5120,     1,     1 ]\n",
      "llama_model_loader: - tensor  187:        blk.20.attn_output.weight q6_K     [  5120,  5120,     1,     1 ]\n",
      "llama_model_loader: - tensor  188:             blk.20.attn_q.weight q6_K     [  5120,  5120,     1,     1 ]\n",
      "llama_model_loader: - tensor  189:             blk.20.attn_v.weight q6_K     [  5120,  5120,     1,     1 ]\n",
      "llama_model_loader: - tensor  190:          blk.21.attn_norm.weight f32      [  5120,     1,     1,     1 ]\n",
      "llama_model_loader: - tensor  191:           blk.21.ffn_down.weight q6_K     [ 13824,  5120,     1,     1 ]\n",
      "llama_model_loader: - tensor  192:           blk.21.ffn_gate.weight q6_K     [  5120, 13824,     1,     1 ]\n",
      "llama_model_loader: - tensor  193:             blk.21.ffn_up.weight q6_K     [  5120, 13824,     1,     1 ]\n",
      "llama_model_loader: - tensor  194:           blk.21.ffn_norm.weight f32      [  5120,     1,     1,     1 ]\n",
      "llama_model_loader: - tensor  195:             blk.21.attn_k.weight q6_K     [  5120,  5120,     1,     1 ]\n",
      "llama_model_loader: - tensor  196:        blk.21.attn_output.weight q6_K     [  5120,  5120,     1,     1 ]\n",
      "llama_model_loader: - tensor  197:             blk.21.attn_q.weight q6_K     [  5120,  5120,     1,     1 ]\n",
      "llama_model_loader: - tensor  198:             blk.21.attn_v.weight q6_K     [  5120,  5120,     1,     1 ]\n",
      "llama_model_loader: - tensor  199:          blk.22.attn_norm.weight f32      [  5120,     1,     1,     1 ]\n",
      "llama_model_loader: - tensor  200:           blk.22.ffn_down.weight q6_K     [ 13824,  5120,     1,     1 ]\n",
      "llama_model_loader: - tensor  201:           blk.22.ffn_gate.weight q6_K     [  5120, 13824,     1,     1 ]\n",
      "llama_model_loader: - tensor  202:             blk.22.ffn_up.weight q6_K     [  5120, 13824,     1,     1 ]\n",
      "llama_model_loader: - tensor  203:           blk.22.ffn_norm.weight f32      [  5120,     1,     1,     1 ]\n",
      "llama_model_loader: - tensor  204:             blk.22.attn_k.weight q6_K     [  5120,  5120,     1,     1 ]\n",
      "llama_model_loader: - tensor  205:        blk.22.attn_output.weight q6_K     [  5120,  5120,     1,     1 ]\n",
      "llama_model_loader: - tensor  206:             blk.22.attn_q.weight q6_K     [  5120,  5120,     1,     1 ]\n",
      "llama_model_loader: - tensor  207:             blk.22.attn_v.weight q6_K     [  5120,  5120,     1,     1 ]\n",
      "llama_model_loader: - tensor  208:          blk.23.attn_norm.weight f32      [  5120,     1,     1,     1 ]\n",
      "llama_model_loader: - tensor  209:           blk.23.ffn_down.weight q6_K     [ 13824,  5120,     1,     1 ]\n",
      "llama_model_loader: - tensor  210:           blk.23.ffn_gate.weight q6_K     [  5120, 13824,     1,     1 ]\n",
      "llama_model_loader: - tensor  211:             blk.23.ffn_up.weight q6_K     [  5120, 13824,     1,     1 ]\n",
      "llama_model_loader: - tensor  212:           blk.23.ffn_norm.weight f32      [  5120,     1,     1,     1 ]\n",
      "llama_model_loader: - tensor  213:             blk.23.attn_k.weight q6_K     [  5120,  5120,     1,     1 ]\n",
      "llama_model_loader: - tensor  214:        blk.23.attn_output.weight q6_K     [  5120,  5120,     1,     1 ]\n",
      "llama_model_loader: - tensor  215:             blk.23.attn_q.weight q6_K     [  5120,  5120,     1,     1 ]\n",
      "llama_model_loader: - tensor  216:             blk.23.attn_v.weight q6_K     [  5120,  5120,     1,     1 ]\n",
      "llama_model_loader: - tensor  217:          blk.24.attn_norm.weight f32      [  5120,     1,     1,     1 ]\n",
      "llama_model_loader: - tensor  218:           blk.24.ffn_down.weight q6_K     [ 13824,  5120,     1,     1 ]\n",
      "llama_model_loader: - tensor  219:           blk.24.ffn_gate.weight q6_K     [  5120, 13824,     1,     1 ]\n",
      "llama_model_loader: - tensor  220:             blk.24.ffn_up.weight q6_K     [  5120, 13824,     1,     1 ]\n",
      "llama_model_loader: - tensor  221:           blk.24.ffn_norm.weight f32      [  5120,     1,     1,     1 ]\n",
      "llama_model_loader: - tensor  222:             blk.24.attn_k.weight q6_K     [  5120,  5120,     1,     1 ]\n",
      "llama_model_loader: - tensor  223:        blk.24.attn_output.weight q6_K     [  5120,  5120,     1,     1 ]\n",
      "llama_model_loader: - tensor  224:             blk.24.attn_q.weight q6_K     [  5120,  5120,     1,     1 ]\n",
      "llama_model_loader: - tensor  225:             blk.24.attn_v.weight q6_K     [  5120,  5120,     1,     1 ]\n",
      "llama_model_loader: - tensor  226:          blk.25.attn_norm.weight f32      [  5120,     1,     1,     1 ]\n",
      "llama_model_loader: - tensor  227:           blk.25.ffn_down.weight q6_K     [ 13824,  5120,     1,     1 ]\n",
      "llama_model_loader: - tensor  228:           blk.25.ffn_gate.weight q6_K     [  5120, 13824,     1,     1 ]\n",
      "llama_model_loader: - tensor  229:             blk.25.ffn_up.weight q6_K     [  5120, 13824,     1,     1 ]\n",
      "llama_model_loader: - tensor  230:           blk.25.ffn_norm.weight f32      [  5120,     1,     1,     1 ]\n",
      "llama_model_loader: - tensor  231:             blk.25.attn_k.weight q6_K     [  5120,  5120,     1,     1 ]\n",
      "llama_model_loader: - tensor  232:        blk.25.attn_output.weight q6_K     [  5120,  5120,     1,     1 ]\n",
      "llama_model_loader: - tensor  233:             blk.25.attn_q.weight q6_K     [  5120,  5120,     1,     1 ]\n",
      "llama_model_loader: - tensor  234:             blk.25.attn_v.weight q6_K     [  5120,  5120,     1,     1 ]\n",
      "llama_model_loader: - tensor  235:          blk.26.attn_norm.weight f32      [  5120,     1,     1,     1 ]\n",
      "llama_model_loader: - tensor  236:           blk.26.ffn_down.weight q6_K     [ 13824,  5120,     1,     1 ]\n",
      "llama_model_loader: - tensor  237:           blk.26.ffn_gate.weight q6_K     [  5120, 13824,     1,     1 ]\n",
      "llama_model_loader: - tensor  238:             blk.26.ffn_up.weight q6_K     [  5120, 13824,     1,     1 ]\n",
      "llama_model_loader: - tensor  239:           blk.26.ffn_norm.weight f32      [  5120,     1,     1,     1 ]\n",
      "llama_model_loader: - tensor  240:             blk.26.attn_k.weight q6_K     [  5120,  5120,     1,     1 ]\n",
      "llama_model_loader: - tensor  241:        blk.26.attn_output.weight q6_K     [  5120,  5120,     1,     1 ]\n",
      "llama_model_loader: - tensor  242:             blk.26.attn_q.weight q6_K     [  5120,  5120,     1,     1 ]\n",
      "llama_model_loader: - tensor  243:             blk.26.attn_v.weight q6_K     [  5120,  5120,     1,     1 ]\n",
      "llama_model_loader: - tensor  244:          blk.27.attn_norm.weight f32      [  5120,     1,     1,     1 ]\n",
      "llama_model_loader: - tensor  245:           blk.27.ffn_down.weight q6_K     [ 13824,  5120,     1,     1 ]\n",
      "llama_model_loader: - tensor  246:           blk.27.ffn_gate.weight q6_K     [  5120, 13824,     1,     1 ]\n",
      "llama_model_loader: - tensor  247:             blk.27.ffn_up.weight q6_K     [  5120, 13824,     1,     1 ]\n",
      "llama_model_loader: - tensor  248:           blk.27.ffn_norm.weight f32      [  5120,     1,     1,     1 ]\n",
      "llama_model_loader: - tensor  249:             blk.27.attn_k.weight q6_K     [  5120,  5120,     1,     1 ]\n",
      "llama_model_loader: - tensor  250:        blk.27.attn_output.weight q6_K     [  5120,  5120,     1,     1 ]\n",
      "llama_model_loader: - tensor  251:             blk.27.attn_q.weight q6_K     [  5120,  5120,     1,     1 ]\n",
      "llama_model_loader: - tensor  252:             blk.27.attn_v.weight q6_K     [  5120,  5120,     1,     1 ]\n",
      "llama_model_loader: - tensor  253:          blk.28.attn_norm.weight f32      [  5120,     1,     1,     1 ]\n",
      "llama_model_loader: - tensor  254:           blk.28.ffn_down.weight q6_K     [ 13824,  5120,     1,     1 ]\n",
      "llama_model_loader: - tensor  255:           blk.28.ffn_gate.weight q6_K     [  5120, 13824,     1,     1 ]\n",
      "llama_model_loader: - tensor  256:             blk.28.ffn_up.weight q6_K     [  5120, 13824,     1,     1 ]\n",
      "llama_model_loader: - tensor  257:           blk.28.ffn_norm.weight f32      [  5120,     1,     1,     1 ]\n",
      "llama_model_loader: - tensor  258:             blk.28.attn_k.weight q6_K     [  5120,  5120,     1,     1 ]\n",
      "llama_model_loader: - tensor  259:        blk.28.attn_output.weight q6_K     [  5120,  5120,     1,     1 ]\n",
      "llama_model_loader: - tensor  260:             blk.28.attn_q.weight q6_K     [  5120,  5120,     1,     1 ]\n",
      "llama_model_loader: - tensor  261:             blk.28.attn_v.weight q6_K     [  5120,  5120,     1,     1 ]\n",
      "llama_model_loader: - tensor  262:          blk.29.attn_norm.weight f32      [  5120,     1,     1,     1 ]\n",
      "llama_model_loader: - tensor  263:           blk.29.ffn_down.weight q6_K     [ 13824,  5120,     1,     1 ]\n",
      "llama_model_loader: - tensor  264:           blk.29.ffn_gate.weight q6_K     [  5120, 13824,     1,     1 ]\n",
      "llama_model_loader: - tensor  265:             blk.29.ffn_up.weight q6_K     [  5120, 13824,     1,     1 ]\n",
      "llama_model_loader: - tensor  266:           blk.29.ffn_norm.weight f32      [  5120,     1,     1,     1 ]\n",
      "llama_model_loader: - tensor  267:             blk.29.attn_k.weight q6_K     [  5120,  5120,     1,     1 ]\n",
      "llama_model_loader: - tensor  268:        blk.29.attn_output.weight q6_K     [  5120,  5120,     1,     1 ]\n",
      "llama_model_loader: - tensor  269:             blk.29.attn_q.weight q6_K     [  5120,  5120,     1,     1 ]\n",
      "llama_model_loader: - tensor  270:             blk.29.attn_v.weight q6_K     [  5120,  5120,     1,     1 ]\n",
      "llama_model_loader: - tensor  271:           blk.30.ffn_gate.weight q6_K     [  5120, 13824,     1,     1 ]\n",
      "llama_model_loader: - tensor  272:             blk.30.ffn_up.weight q6_K     [  5120, 13824,     1,     1 ]\n",
      "llama_model_loader: - tensor  273:             blk.30.attn_k.weight q6_K     [  5120,  5120,     1,     1 ]\n",
      "llama_model_loader: - tensor  274:        blk.30.attn_output.weight q6_K     [  5120,  5120,     1,     1 ]\n",
      "llama_model_loader: - tensor  275:             blk.30.attn_q.weight q6_K     [  5120,  5120,     1,     1 ]\n",
      "llama_model_loader: - tensor  276:             blk.30.attn_v.weight q6_K     [  5120,  5120,     1,     1 ]\n",
      "llama_model_loader: - tensor  277:                    output.weight q6_K     [  5120, 32000,     1,     1 ]\n",
      "llama_model_loader: - tensor  278:          blk.30.attn_norm.weight f32      [  5120,     1,     1,     1 ]\n",
      "llama_model_loader: - tensor  279:           blk.30.ffn_down.weight q6_K     [ 13824,  5120,     1,     1 ]\n",
      "llama_model_loader: - tensor  280:           blk.30.ffn_norm.weight f32      [  5120,     1,     1,     1 ]\n",
      "llama_model_loader: - tensor  281:          blk.31.attn_norm.weight f32      [  5120,     1,     1,     1 ]\n",
      "llama_model_loader: - tensor  282:           blk.31.ffn_down.weight q6_K     [ 13824,  5120,     1,     1 ]\n",
      "llama_model_loader: - tensor  283:           blk.31.ffn_gate.weight q6_K     [  5120, 13824,     1,     1 ]\n",
      "llama_model_loader: - tensor  284:             blk.31.ffn_up.weight q6_K     [  5120, 13824,     1,     1 ]\n",
      "llama_model_loader: - tensor  285:           blk.31.ffn_norm.weight f32      [  5120,     1,     1,     1 ]\n",
      "llama_model_loader: - tensor  286:             blk.31.attn_k.weight q6_K     [  5120,  5120,     1,     1 ]\n",
      "llama_model_loader: - tensor  287:        blk.31.attn_output.weight q6_K     [  5120,  5120,     1,     1 ]\n",
      "llama_model_loader: - tensor  288:             blk.31.attn_q.weight q6_K     [  5120,  5120,     1,     1 ]\n",
      "llama_model_loader: - tensor  289:             blk.31.attn_v.weight q6_K     [  5120,  5120,     1,     1 ]\n",
      "llama_model_loader: - tensor  290:          blk.32.attn_norm.weight f32      [  5120,     1,     1,     1 ]\n",
      "llama_model_loader: - tensor  291:           blk.32.ffn_down.weight q6_K     [ 13824,  5120,     1,     1 ]\n",
      "llama_model_loader: - tensor  292:           blk.32.ffn_gate.weight q6_K     [  5120, 13824,     1,     1 ]\n",
      "llama_model_loader: - tensor  293:             blk.32.ffn_up.weight q6_K     [  5120, 13824,     1,     1 ]\n",
      "llama_model_loader: - tensor  294:           blk.32.ffn_norm.weight f32      [  5120,     1,     1,     1 ]\n",
      "llama_model_loader: - tensor  295:             blk.32.attn_k.weight q6_K     [  5120,  5120,     1,     1 ]\n",
      "llama_model_loader: - tensor  296:        blk.32.attn_output.weight q6_K     [  5120,  5120,     1,     1 ]\n",
      "llama_model_loader: - tensor  297:             blk.32.attn_q.weight q6_K     [  5120,  5120,     1,     1 ]\n",
      "llama_model_loader: - tensor  298:             blk.32.attn_v.weight q6_K     [  5120,  5120,     1,     1 ]\n",
      "llama_model_loader: - tensor  299:          blk.33.attn_norm.weight f32      [  5120,     1,     1,     1 ]\n",
      "llama_model_loader: - tensor  300:           blk.33.ffn_down.weight q6_K     [ 13824,  5120,     1,     1 ]\n",
      "llama_model_loader: - tensor  301:           blk.33.ffn_gate.weight q6_K     [  5120, 13824,     1,     1 ]\n",
      "llama_model_loader: - tensor  302:             blk.33.ffn_up.weight q6_K     [  5120, 13824,     1,     1 ]\n",
      "llama_model_loader: - tensor  303:           blk.33.ffn_norm.weight f32      [  5120,     1,     1,     1 ]\n",
      "llama_model_loader: - tensor  304:             blk.33.attn_k.weight q6_K     [  5120,  5120,     1,     1 ]\n",
      "llama_model_loader: - tensor  305:        blk.33.attn_output.weight q6_K     [  5120,  5120,     1,     1 ]\n",
      "llama_model_loader: - tensor  306:             blk.33.attn_q.weight q6_K     [  5120,  5120,     1,     1 ]\n",
      "llama_model_loader: - tensor  307:             blk.33.attn_v.weight q6_K     [  5120,  5120,     1,     1 ]\n",
      "llama_model_loader: - tensor  308:          blk.34.attn_norm.weight f32      [  5120,     1,     1,     1 ]\n",
      "llama_model_loader: - tensor  309:           blk.34.ffn_down.weight q6_K     [ 13824,  5120,     1,     1 ]\n",
      "llama_model_loader: - tensor  310:           blk.34.ffn_gate.weight q6_K     [  5120, 13824,     1,     1 ]\n",
      "llama_model_loader: - tensor  311:             blk.34.ffn_up.weight q6_K     [  5120, 13824,     1,     1 ]\n",
      "llama_model_loader: - tensor  312:           blk.34.ffn_norm.weight f32      [  5120,     1,     1,     1 ]\n",
      "llama_model_loader: - tensor  313:             blk.34.attn_k.weight q6_K     [  5120,  5120,     1,     1 ]\n",
      "llama_model_loader: - tensor  314:        blk.34.attn_output.weight q6_K     [  5120,  5120,     1,     1 ]\n",
      "llama_model_loader: - tensor  315:             blk.34.attn_q.weight q6_K     [  5120,  5120,     1,     1 ]\n",
      "llama_model_loader: - tensor  316:             blk.34.attn_v.weight q6_K     [  5120,  5120,     1,     1 ]\n",
      "llama_model_loader: - tensor  317:          blk.35.attn_norm.weight f32      [  5120,     1,     1,     1 ]\n",
      "llama_model_loader: - tensor  318:           blk.35.ffn_down.weight q6_K     [ 13824,  5120,     1,     1 ]\n",
      "llama_model_loader: - tensor  319:           blk.35.ffn_gate.weight q6_K     [  5120, 13824,     1,     1 ]\n",
      "llama_model_loader: - tensor  320:             blk.35.ffn_up.weight q6_K     [  5120, 13824,     1,     1 ]\n",
      "llama_model_loader: - tensor  321:           blk.35.ffn_norm.weight f32      [  5120,     1,     1,     1 ]\n",
      "llama_model_loader: - tensor  322:             blk.35.attn_k.weight q6_K     [  5120,  5120,     1,     1 ]\n",
      "llama_model_loader: - tensor  323:        blk.35.attn_output.weight q6_K     [  5120,  5120,     1,     1 ]\n",
      "llama_model_loader: - tensor  324:             blk.35.attn_q.weight q6_K     [  5120,  5120,     1,     1 ]\n",
      "llama_model_loader: - tensor  325:             blk.35.attn_v.weight q6_K     [  5120,  5120,     1,     1 ]\n",
      "llama_model_loader: - tensor  326:          blk.36.attn_norm.weight f32      [  5120,     1,     1,     1 ]\n",
      "llama_model_loader: - tensor  327:           blk.36.ffn_down.weight q6_K     [ 13824,  5120,     1,     1 ]\n",
      "llama_model_loader: - tensor  328:           blk.36.ffn_gate.weight q6_K     [  5120, 13824,     1,     1 ]\n",
      "llama_model_loader: - tensor  329:             blk.36.ffn_up.weight q6_K     [  5120, 13824,     1,     1 ]\n",
      "llama_model_loader: - tensor  330:           blk.36.ffn_norm.weight f32      [  5120,     1,     1,     1 ]\n",
      "llama_model_loader: - tensor  331:             blk.36.attn_k.weight q6_K     [  5120,  5120,     1,     1 ]\n",
      "llama_model_loader: - tensor  332:        blk.36.attn_output.weight q6_K     [  5120,  5120,     1,     1 ]\n",
      "llama_model_loader: - tensor  333:             blk.36.attn_q.weight q6_K     [  5120,  5120,     1,     1 ]\n",
      "llama_model_loader: - tensor  334:             blk.36.attn_v.weight q6_K     [  5120,  5120,     1,     1 ]\n",
      "llama_model_loader: - tensor  335:          blk.37.attn_norm.weight f32      [  5120,     1,     1,     1 ]\n",
      "llama_model_loader: - tensor  336:           blk.37.ffn_down.weight q6_K     [ 13824,  5120,     1,     1 ]\n",
      "llama_model_loader: - tensor  337:           blk.37.ffn_gate.weight q6_K     [  5120, 13824,     1,     1 ]\n",
      "llama_model_loader: - tensor  338:             blk.37.ffn_up.weight q6_K     [  5120, 13824,     1,     1 ]\n",
      "llama_model_loader: - tensor  339:           blk.37.ffn_norm.weight f32      [  5120,     1,     1,     1 ]\n",
      "llama_model_loader: - tensor  340:             blk.37.attn_k.weight q6_K     [  5120,  5120,     1,     1 ]\n",
      "llama_model_loader: - tensor  341:        blk.37.attn_output.weight q6_K     [  5120,  5120,     1,     1 ]\n",
      "llama_model_loader: - tensor  342:             blk.37.attn_q.weight q6_K     [  5120,  5120,     1,     1 ]\n",
      "llama_model_loader: - tensor  343:             blk.37.attn_v.weight q6_K     [  5120,  5120,     1,     1 ]\n",
      "llama_model_loader: - tensor  344:          blk.38.attn_norm.weight f32      [  5120,     1,     1,     1 ]\n",
      "llama_model_loader: - tensor  345:           blk.38.ffn_down.weight q6_K     [ 13824,  5120,     1,     1 ]\n",
      "llama_model_loader: - tensor  346:           blk.38.ffn_gate.weight q6_K     [  5120, 13824,     1,     1 ]\n",
      "llama_model_loader: - tensor  347:             blk.38.ffn_up.weight q6_K     [  5120, 13824,     1,     1 ]\n",
      "llama_model_loader: - tensor  348:           blk.38.ffn_norm.weight f32      [  5120,     1,     1,     1 ]\n",
      "llama_model_loader: - tensor  349:             blk.38.attn_k.weight q6_K     [  5120,  5120,     1,     1 ]\n",
      "llama_model_loader: - tensor  350:        blk.38.attn_output.weight q6_K     [  5120,  5120,     1,     1 ]\n",
      "llama_model_loader: - tensor  351:             blk.38.attn_q.weight q6_K     [  5120,  5120,     1,     1 ]\n",
      "llama_model_loader: - tensor  352:             blk.38.attn_v.weight q6_K     [  5120,  5120,     1,     1 ]\n",
      "llama_model_loader: - tensor  353:          blk.39.attn_norm.weight f32      [  5120,     1,     1,     1 ]\n",
      "llama_model_loader: - tensor  354:           blk.39.ffn_down.weight q6_K     [ 13824,  5120,     1,     1 ]\n",
      "llama_model_loader: - tensor  355:           blk.39.ffn_gate.weight q6_K     [  5120, 13824,     1,     1 ]\n",
      "llama_model_loader: - tensor  356:             blk.39.ffn_up.weight q6_K     [  5120, 13824,     1,     1 ]\n",
      "llama_model_loader: - tensor  357:           blk.39.ffn_norm.weight f32      [  5120,     1,     1,     1 ]\n",
      "llama_model_loader: - tensor  358:             blk.39.attn_k.weight q6_K     [  5120,  5120,     1,     1 ]\n",
      "llama_model_loader: - tensor  359:        blk.39.attn_output.weight q6_K     [  5120,  5120,     1,     1 ]\n",
      "llama_model_loader: - tensor  360:             blk.39.attn_q.weight q6_K     [  5120,  5120,     1,     1 ]\n",
      "llama_model_loader: - tensor  361:             blk.39.attn_v.weight q6_K     [  5120,  5120,     1,     1 ]\n",
      "llama_model_loader: - tensor  362:               output_norm.weight f32      [  5120,     1,     1,     1 ]\n",
      "llama_model_loader: - kv   0:                       general.architecture str              = llama\n",
      "llama_model_loader: - kv   1:                               general.name str              = LLaMA v2\n",
      "llama_model_loader: - kv   2:                       llama.context_length u32              = 4096\n",
      "llama_model_loader: - kv   3:                     llama.embedding_length u32              = 5120\n",
      "llama_model_loader: - kv   4:                          llama.block_count u32              = 40\n",
      "llama_model_loader: - kv   5:                  llama.feed_forward_length u32              = 13824\n",
      "llama_model_loader: - kv   6:                 llama.rope.dimension_count u32              = 128\n",
      "llama_model_loader: - kv   7:                 llama.attention.head_count u32              = 40\n",
      "llama_model_loader: - kv   8:              llama.attention.head_count_kv u32              = 40\n",
      "llama_model_loader: - kv   9:     llama.attention.layer_norm_rms_epsilon f32              = 0.000010\n",
      "llama_model_loader: - kv  10:                          general.file_type u32              = 18\n",
      "llama_model_loader: - kv  11:                       tokenizer.ggml.model str              = llama\n",
      "llama_model_loader: - kv  12:                      tokenizer.ggml.tokens arr[str,32000]   = [\"<unk>\", \"<s>\", \"</s>\", \"<0x00>\", \"<...\n",
      "llama_model_loader: - kv  13:                      tokenizer.ggml.scores arr[f32,32000]   = [0.000000, 0.000000, 0.000000, 0.0000...\n",
      "llama_model_loader: - kv  14:                  tokenizer.ggml.token_type arr[i32,32000]   = [2, 3, 3, 6, 6, 6, 6, 6, 6, 6, 6, 6, ...\n",
      "llama_model_loader: - kv  15:                tokenizer.ggml.bos_token_id u32              = 1\n",
      "llama_model_loader: - kv  16:                tokenizer.ggml.eos_token_id u32              = 2\n",
      "llama_model_loader: - kv  17:            tokenizer.ggml.unknown_token_id u32              = 0\n",
      "llama_model_loader: - kv  18:               general.quantization_version u32              = 2\n",
      "llama_model_loader: - type  f32:   81 tensors\n",
      "llama_model_loader: - type q6_K:  282 tensors\n",
      "llm_load_vocab: special tokens definition check successful ( 259/32000 ).\n",
      "llm_load_print_meta: format           = GGUF V2\n",
      "llm_load_print_meta: arch             = llama\n",
      "llm_load_print_meta: vocab type       = SPM\n",
      "llm_load_print_meta: n_vocab          = 32000\n",
      "llm_load_print_meta: n_merges         = 0\n",
      "llm_load_print_meta: n_ctx_train      = 4096\n",
      "llm_load_print_meta: n_embd           = 5120\n",
      "llm_load_print_meta: n_head           = 40\n",
      "llm_load_print_meta: n_head_kv        = 40\n",
      "llm_load_print_meta: n_layer          = 40\n",
      "llm_load_print_meta: n_rot            = 128\n",
      "llm_load_print_meta: n_gqa            = 1\n",
      "llm_load_print_meta: f_norm_eps       = 0.0e+00\n",
      "llm_load_print_meta: f_norm_rms_eps   = 1.0e-05\n",
      "llm_load_print_meta: f_clamp_kqv      = 0.0e+00\n",
      "llm_load_print_meta: f_max_alibi_bias = 0.0e+00\n",
      "llm_load_print_meta: n_ff             = 13824\n",
      "llm_load_print_meta: rope scaling     = linear\n",
      "llm_load_print_meta: freq_base_train  = 10000.0\n",
      "llm_load_print_meta: freq_scale_train = 1\n",
      "llm_load_print_meta: n_yarn_orig_ctx  = 4096\n",
      "llm_load_print_meta: rope_finetuned   = unknown\n",
      "llm_load_print_meta: model type       = 13B\n",
      "llm_load_print_meta: model ftype      = mostly Q6_K\n",
      "llm_load_print_meta: model params     = 13.02 B\n",
      "llm_load_print_meta: model size       = 9.95 GiB (6.56 BPW) \n",
      "llm_load_print_meta: general.name   = LLaMA v2\n",
      "llm_load_print_meta: BOS token = 1 '<s>'\n",
      "llm_load_print_meta: EOS token = 2 '</s>'\n",
      "llm_load_print_meta: UNK token = 0 '<unk>'\n",
      "llm_load_print_meta: LF token  = 13 '<0x0A>'\n",
      "llm_load_tensors: ggml ctx size =    0.13 MiB\n",
      "llm_load_tensors: using CUDA for GPU acceleration\n",
      "llm_load_tensors: mem required  =  128.31 MiB\n",
      "llm_load_tensors: offloading 40 repeating layers to GPU\n",
      "llm_load_tensors: offloading non-repeating layers to GPU\n",
      "llm_load_tensors: offloaded 43/43 layers to GPU\n",
      "llm_load_tensors: VRAM used: 10055.54 MiB\n"
     ]
    },
    {
     "name": "stderr",
     "output_type": "stream",
     "text": [
      "....................................................................................................\n",
      "llama_new_context_with_model: n_ctx      = 4096\n",
      "llama_new_context_with_model: freq_base  = 10000.0\n",
      "llama_new_context_with_model: freq_scale = 1\n",
      "llama_kv_cache_init: offloading v cache to GPU\n",
      "llama_kv_cache_init: offloading k cache to GPU\n",
      "llama_kv_cache_init: VRAM kv self = 3200.00 MiB\n",
      "llama_new_context_with_model: kv self size  = 3200.00 MiB\n",
      "llama_build_graph: non-view tensors processed: 924/924\n",
      "llama_new_context_with_model: compute buffer total size = 361.07 MiB\n",
      "llama_new_context_with_model: VRAM scratch buffer: 358.00 MiB\n",
      "llama_new_context_with_model: total VRAM used: 13613.54 MiB (model: 10055.54 MiB, context: 3558.00 MiB)\n"
     ]
    }
   ],
   "source": [
    "from langchain.callbacks.manager import CallbackManager\n",
    "from langchain.callbacks.streaming_stdout import StreamingStdOutCallbackHandler\n",
    "\n",
    "# https://python.langchain.com/docs/guides/local_llms\n",
    "t.llm = LlamaCpp(\n",
    "    model_path=t.llm_path,\n",
    "    n_gpu_layers=t.layers,\n",
    "    n_threads=10, \n",
    "    n_ctx=4096, \n",
    "    n_batch=512,\n",
    "    verbose=False,\n",
    "    f16_kv=True,\n",
    "    callback_manager=CallbackManager([StreamingStdOutCallbackHandler()]),\n",
    ")"
   ]
  },
  {
   "cell_type": "markdown",
   "id": "e9532b20",
   "metadata": {},
   "source": [
    "## Query LLaMa"
   ]
  },
  {
   "cell_type": "code",
   "execution_count": 36,
   "id": "e043e7c3",
   "metadata": {
    "execution": {
     "iopub.execute_input": "2024-01-24T19:50:32.460492Z",
     "iopub.status.busy": "2024-01-24T19:50:32.460156Z",
     "iopub.status.idle": "2024-01-24T19:50:32.465748Z",
     "shell.execute_reply": "2024-01-24T19:50:32.464756Z",
     "shell.execute_reply.started": "2024-01-24T19:50:32.460464Z"
    }
   },
   "outputs": [],
   "source": [
    "def ask(prompt, temp=0.8, top_p=0.95):\n",
    "    out = t.llm.invoke(\n",
    "        prompt, \n",
    "        max_tokens=512, \n",
    "        stop=[\"Q:\"], \n",
    "        temperature=temp,\n",
    "        top_p=top_p,\n",
    "        top_k=10,\n",
    "        repeat_penalty=1.2,\n",
    "    )\n",
    "    return out"
   ]
  },
  {
   "cell_type": "markdown",
   "id": "0df36653",
   "metadata": {},
   "source": [
    "Prompt Format:\n",
    "```\n",
    "<s>[INST] <<SYS>>\n",
    "{{ system_prompt }}\n",
    "<</SYS>>\n",
    "\n",
    "{{ user_message }} [/INST]\n",
    "```"
   ]
  },
  {
   "cell_type": "markdown",
   "id": "2494f057",
   "metadata": {},
   "source": [
    "### Query with RAG"
   ]
  },
  {
   "cell_type": "code",
   "execution_count": 37,
   "id": "3e7d422b",
   "metadata": {
    "execution": {
     "iopub.execute_input": "2024-01-24T19:50:32.467208Z",
     "iopub.status.busy": "2024-01-24T19:50:32.466935Z",
     "iopub.status.idle": "2024-01-24T19:50:32.476664Z",
     "shell.execute_reply": "2024-01-24T19:50:32.475822Z",
     "shell.execute_reply.started": "2024-01-24T19:50:32.467183Z"
    }
   },
   "outputs": [],
   "source": [
    "def ask_with_context(question, context):\n",
    "    full_prompt = (\n",
    "    \"<s>[INST]<<SYS>>\\n\"\n",
    "    + \"You are a helpful expert financial research assistant.\" \n",
    "    + \"You answer questions about about information contained in a financial report.\"\n",
    "    + \"You will be given the user's question, and the relevant informaton from \" \n",
    "    + \"the financial report. Answer the question using only this information\" \n",
    "    + \"\\n<</SYS>>\\n\\n\"\n",
    "    + \"Information: {context}\\n\"\n",
    "    + \"Question: {question}\\n\"\n",
    "    + \"Answer:\\n\"\n",
    "    + \"[/INST]\"\n",
    "    )\n",
    "    full_prompt = full_prompt.replace(\"{context}\", context)\n",
    "    full_prompt = full_prompt.replace(\"{question}\", question)\n",
    "    ask(full_prompt)"
   ]
  },
  {
   "cell_type": "code",
   "execution_count": 38,
   "id": "402bfe24",
   "metadata": {
    "execution": {
     "iopub.execute_input": "2024-01-24T19:50:32.477903Z",
     "iopub.status.busy": "2024-01-24T19:50:32.477656Z",
     "iopub.status.idle": "2024-01-24T19:50:32.488768Z",
     "shell.execute_reply": "2024-01-24T19:50:32.487924Z",
     "shell.execute_reply.started": "2024-01-24T19:50:32.477881Z"
    }
   },
   "outputs": [],
   "source": [
    "def find_context(question):\n",
    "    results = t.coll.aggregate([{\n",
    "    \"$vectorSearch\": {\n",
    "        \"queryVector\": t.emb_model.encode(question).tolist(),\n",
    "        \"path\": \"embedding\",\n",
    "        \"numCandidates\": 200,\n",
    "        \"limit\": 8,\n",
    "        \"index\": f\"{t.coll.name}_vector_index\"\n",
    "    }}])\n",
    "    result_texts = [d['text'] for d in results]\n",
    "    assert len(result_texts) > 0\n",
    "    context = \"\\n\\n\".join(result_texts)\n",
    "    return context"
   ]
  },
  {
   "cell_type": "code",
   "execution_count": 39,
   "id": "262fc197",
   "metadata": {
    "execution": {
     "iopub.execute_input": "2024-01-24T19:50:32.489957Z",
     "iopub.status.busy": "2024-01-24T19:50:32.489698Z",
     "iopub.status.idle": "2024-01-24T19:50:32.499197Z",
     "shell.execute_reply": "2024-01-24T19:50:32.498367Z",
     "shell.execute_reply.started": "2024-01-24T19:50:32.489934Z"
    }
   },
   "outputs": [],
   "source": [
    "def ask_with_rag(question):\n",
    "    context = find_context(question)\n",
    "    ask_with_context(question, context)"
   ]
  },
  {
   "cell_type": "code",
   "execution_count": 40,
   "id": "7482e189",
   "metadata": {
    "execution": {
     "iopub.execute_input": "2024-01-24T19:50:32.501258Z",
     "iopub.status.busy": "2024-01-24T19:50:32.500412Z",
     "iopub.status.idle": "2024-01-24T19:51:58.547421Z",
     "shell.execute_reply": "2024-01-24T19:51:58.546427Z",
     "shell.execute_reply.started": "2024-01-24T19:50:32.501224Z"
    }
   },
   "outputs": [
    {
     "name": "stdout",
     "output_type": "stream",
     "text": [
      "  Based on the information provided, the total revenue for the years ended January 31, 2023, 2022, and 2021 was $1,284.0 million, $873.8 million, and $590.4 million, respectively.CPU times: user 2.89 s, sys: 602 ms, total: 3.49 s\n",
      "Wall time: 3.57 s\n"
     ]
    }
   ],
   "source": [
    "%%time\n",
    "ask_with_rag(\"What was the total revenue?\")"
   ]
  },
  {
   "cell_type": "code",
   "execution_count": 41,
   "id": "520691e0",
   "metadata": {
    "execution": {
     "iopub.execute_input": "2024-01-24T19:51:58.549041Z",
     "iopub.status.busy": "2024-01-24T19:51:58.548731Z",
     "iopub.status.idle": "2024-01-24T19:53:45.396493Z",
     "shell.execute_reply": "2024-01-24T19:53:45.395498Z",
     "shell.execute_reply.started": "2024-01-24T19:51:58.549015Z"
    }
   },
   "outputs": [
    {
     "name": "stdout",
     "output_type": "stream",
     "text": [
      "  Based on the information provided, the operating income (loss) for the years ended January 31, 2023, 2022 and 2021 was as follows:\n",
      "\n",
      "Year Ended January 31,\n",
      "Operating Income (Loss)\n",
      "-----------\n",
      "\n",
      "2023 $(346,655)\"\n",
      "\n",
      "2022 $(289,364)\"\n",
      "\n",
      "2021 $(209,304)\"CPU times: user 3.76 s, sys: 489 ms, total: 4.25 s\n",
      "Wall time: 4.28 s\n"
     ]
    }
   ],
   "source": [
    "%%time\n",
    "ask_with_rag(\"What was the operating income or loss?\")"
   ]
  },
  {
   "cell_type": "code",
   "execution_count": 42,
   "id": "b04082d0",
   "metadata": {
    "execution": {
     "iopub.execute_input": "2024-01-24T19:53:45.398591Z",
     "iopub.status.busy": "2024-01-24T19:53:45.398149Z",
     "iopub.status.idle": "2024-01-24T19:55:00.667835Z",
     "shell.execute_reply": "2024-01-24T19:55:00.666807Z",
     "shell.execute_reply.started": "2024-01-24T19:53:45.398552Z"
    }
   },
   "outputs": [
    {
     "name": "stdout",
     "output_type": "stream",
     "text": [
      "  Based on the information provided in the financial report, the operating loss in Year 2022 was $(302,889).CPU times: user 1.75 s, sys: 372 ms, total: 2.12 s\n",
      "Wall time: 2.22 s\n"
     ]
    }
   ],
   "source": [
    "%%time\n",
    "ask_with_rag(\"What was the operating income or loss in year 2022?\")"
   ]
  },
  {
   "cell_type": "code",
   "execution_count": 43,
   "id": "7c1b1fbf",
   "metadata": {
    "execution": {
     "iopub.execute_input": "2024-01-24T19:55:00.669323Z",
     "iopub.status.busy": "2024-01-24T19:55:00.669028Z",
     "iopub.status.idle": "2024-01-24T19:56:36.920756Z",
     "shell.execute_reply": "2024-01-24T19:56:36.919195Z",
     "shell.execute_reply.started": "2024-01-24T19:55:00.669297Z"
    }
   },
   "outputs": [
    {
     "name": "stdout",
     "output_type": "stream",
     "text": [
      "  Sure! Based on the information provided, the total revenue for the year ended January 31, 2023 was $1,284.0 million, while the total revenue for the year ended January 31, 2022 was $873.8 million. This represents a 47% increase from 2022 to 2023.CPU times: user 3.2 s, sys: 482 ms, total: 3.68 s\n",
      "Wall time: 3.74 s\n"
     ]
    }
   ],
   "source": [
    "%%time\n",
    "ask_with_rag(\"Compare the total revenue between the years 2023 and 2022\")"
   ]
  },
  {
   "cell_type": "code",
   "execution_count": 44,
   "id": "79e9453d",
   "metadata": {
    "execution": {
     "iopub.execute_input": "2024-01-24T19:56:36.922345Z",
     "iopub.status.busy": "2024-01-24T19:56:36.922024Z",
     "iopub.status.idle": "2024-01-24T19:57:24.290307Z",
     "shell.execute_reply": "2024-01-24T19:57:24.289363Z",
     "shell.execute_reply.started": "2024-01-24T19:56:36.922316Z"
    }
   },
   "outputs": [
    {
     "name": "stdout",
     "output_type": "stream",
     "text": [
      "  Based on the provided information, the report covers the fiscal year ended January 31, 2023.CPU times: user 1.34 s, sys: 313 ms, total: 1.65 s\n",
      "Wall time: 1.75 s\n"
     ]
    }
   ],
   "source": [
    "%%time\n",
    "ask_with_rag(\"What time period does the report cover?\")"
   ]
  },
  {
   "cell_type": "code",
   "execution_count": 45,
   "id": "af194ea7",
   "metadata": {
    "execution": {
     "iopub.execute_input": "2024-01-24T19:57:24.291813Z",
     "iopub.status.busy": "2024-01-24T19:57:24.291519Z",
     "iopub.status.idle": "2024-01-24T19:59:04.713435Z",
     "shell.execute_reply": "2024-01-24T19:59:04.712531Z",
     "shell.execute_reply.started": "2024-01-24T19:57:24.291788Z"
    }
   },
   "outputs": [
    {
     "name": "stdout",
     "output_type": "stream",
     "text": [
      "  Based on the information provided in the Form 10-K, there were no changes to the executive team during the fiscal year ended January 31, 2023. The report lists the following individuals as the current principal executives and members of the board of directors:\n",
      "\n",
      "* Dev Ittycheria, President, Chief Executive Officer, and Director\n",
      "* Michael Gordon, Chief Operating Officer and Chief Financial Officer\n",
      "* Thomas Bull, Chief Accounting Officer\n",
      "* Tom Killalea, Director\n",
      "* Archana Agrawal, Director\n",
      "* Roelof Botha, Director\n",
      "* Hope Cochran, Director\n",
      "* Francisco D'Souza, Director\n",
      "* Charles M. Hazard, Jr., Director\n",
      "\n",
      "The report does not mention any changes to the executive team or board of directors during the fiscal year ended January 31, 2023.CPU times: user 5.67 s, sys: 563 ms, total: 6.24 s\n",
      "Wall time: 6.2 s\n"
     ]
    }
   ],
   "source": [
    "%%time\n",
    "ask_with_rag(\"Were there any changes to the executive team?\")"
   ]
  },
  {
   "cell_type": "markdown",
   "id": "a7a32e51",
   "metadata": {},
   "source": [
    "### Query Embedded Knowledge"
   ]
  },
  {
   "cell_type": "code",
   "execution_count": 46,
   "id": "a8f7952f",
   "metadata": {
    "execution": {
     "iopub.execute_input": "2024-01-24T19:59:04.715343Z",
     "iopub.status.busy": "2024-01-24T19:59:04.714964Z",
     "iopub.status.idle": "2024-01-24T19:59:04.720705Z",
     "shell.execute_reply": "2024-01-24T19:59:04.719791Z",
     "shell.execute_reply.started": "2024-01-24T19:59:04.715303Z"
    }
   },
   "outputs": [],
   "source": [
    "def ask_llm(question):\n",
    "    prompt = (\n",
    "        f\"<s>[INST]<<SYS>>\\n\"\n",
    "        + f\"You are a helpful expert financial research assistant.\" \n",
    "        + f\"\\n<</SYS>>\\n\\n\"\n",
    "        + f\"Question: {question}\\n\"\n",
    "        + f\"Answer:\\n\"\n",
    "        + f\"[/INST]\"\n",
    "    )\n",
    "    ask(prompt)"
   ]
  },
  {
   "cell_type": "code",
   "execution_count": 47,
   "id": "64fac622",
   "metadata": {
    "execution": {
     "iopub.execute_input": "2024-01-24T19:59:04.722097Z",
     "iopub.status.busy": "2024-01-24T19:59:04.721835Z",
     "iopub.status.idle": "2024-01-24T19:59:13.387494Z",
     "shell.execute_reply": "2024-01-24T19:59:13.386560Z",
     "shell.execute_reply.started": "2024-01-24T19:59:04.722073Z"
    }
   },
   "outputs": [
    {
     "name": "stdout",
     "output_type": "stream",
     "text": [
      "  As a helpful expert financial research assistant, I can provide you with the total revenue of MongoDB for the year ended January 31, 2023.\n",
      "\n",
      "According to the latest annual report filed by MongoDB with the Securities and Exchange Commission (SEC) on March 9, 2023, the company's total revenue for the year ended January 31, 2023 was $786.5 million.\n",
      "\n",
      "Here is the breakdown of MongoDB's revenue by product and service:\n",
      "\n",
      "* Subscription revenues: $643.9 million (82% of total revenue)\n",
      "\t+ Atlas (cloud database-as-a-service): $170.2 million (22% of subscription revenues)\n",
      "\t+ MongoDB Enterprise Advanced: $254.4 million (39% of subscription revenues)\n",
      "\t+ MongoDB Enterprise Standard: $138.3 million (21% of subscription revenues)\n",
      "* Professional services and other revenues: $142.6 million (18% of total revenue)\n",
      "\n",
      "Please note that these figures are based on the company's fiscal year ended January 31, 2023, and may not reflect more recent financial information or future results.CPU times: user 6.18 s, sys: 444 ms, total: 6.62 s\n",
      "Wall time: 6.36 s\n"
     ]
    }
   ],
   "source": [
    "%%time\n",
    "ask_llm(\"What was the total revenue of MongoDB in the year ended January 31, 2023?\")"
   ]
  },
  {
   "cell_type": "code",
   "execution_count": 48,
   "id": "3b32392d",
   "metadata": {
    "execution": {
     "iopub.execute_input": "2024-01-24T19:59:13.389218Z",
     "iopub.status.busy": "2024-01-24T19:59:13.388833Z",
     "iopub.status.idle": "2024-01-24T20:00:01.265674Z",
     "shell.execute_reply": "2024-01-24T20:00:01.264643Z",
     "shell.execute_reply.started": "2024-01-24T19:59:13.389183Z"
    }
   },
   "outputs": [
    {
     "name": "stdout",
     "output_type": "stream",
     "text": [
      "  Yes, there were some changes to the executive team at MongoDB during the year ended January 31, 2023. Here are the updates I found based on my research:\n",
      "\n",
      "1. New CEO: In October 2022, MongoDB appointed Dev Ittycheria as its new Chief Executive Officer (CEO), effective November 1, 2022. He replaced former CEO and co-founder, Kevin Ryan, who stepped down from the role but remains on the company's board of directors.\n",
      "2. New CFO: In January 2023, MongoDB appointed Michael Gordon as its new Chief Financial Officer (CFO). He joined the company from Zoom Video Communications, where he served as the Senior Vice President and Chief Financial Officer.\n",
      "3. Other changes: Additionally, MongoDB's board of directors added two new members in 2022 - Dr. Min Tipton-King and Nicole Wong. Dr. Tipton-King is a seasoned technology executive with experience at companies like Google and Amazon Web Services (AWS), while Nicole Wong is a former Twitter executive who served as the company's Vice President of Legal and Trust & Safety.\n",
      "4. Departures: In 2022, MongoDB also saw some departures from its executive team, including the departure of its long-time CFO, John Crupi, who left the company in October 2022 to pursue other opportunities.\n",
      "\n",
      "These changes were announced by MongoDB through press releases and filings with the U.S. Securities and Exchange Commission (SEC).CPU times: user 7.64 s, sys: 523 ms, total: 8.17 s\n",
      "Wall time: 7.86 s\n"
     ]
    }
   ],
   "source": [
    "%%time\n",
    "ask_llm(\"Were there any changes to the executive team at MongoDB in the year ended January 31, 2023?\")"
   ]
  },
  {
   "cell_type": "markdown",
   "id": "76f12fd4",
   "metadata": {},
   "source": [
    "## Visualize Embeddings"
   ]
  },
  {
   "cell_type": "code",
   "execution_count": 49,
   "id": "79d2b39c",
   "metadata": {},
   "outputs": [],
   "source": [
    "v = Object()"
   ]
  },
  {
   "cell_type": "code",
   "execution_count": 50,
   "id": "e3983834",
   "metadata": {},
   "outputs": [],
   "source": [
    "v.embeddings = list(t.coll.find({}, {\"embedding\": 1}))"
   ]
  },
  {
   "cell_type": "code",
   "execution_count": 51,
   "id": "1ff992f6",
   "metadata": {},
   "outputs": [],
   "source": [
    "v.emb_values = [e['embedding'] for e in v.embeddings]"
   ]
  },
  {
   "cell_type": "code",
   "execution_count": 52,
   "id": "ca6ef2b7",
   "metadata": {},
   "outputs": [],
   "source": [
    "def umap_embeddings(emb, umap_t):\n",
    "    umap_emb = np.empty((len(emb),2))\n",
    "    for i, e in enumerate(tqdm(emb)): \n",
    "        umap_emb[i] = umap_t.transform([e])\n",
    "    return umap_emb"
   ]
  },
  {
   "cell_type": "code",
   "execution_count": 53,
   "id": "eeb308fe",
   "metadata": {},
   "outputs": [
    {
     "name": "stderr",
     "output_type": "stream",
     "text": [
      "/home/kalininalex/miniconda3/envs/py38/lib/python3.8/site-packages/umap/umap_.py:1943: UserWarning: n_jobs value -1 overridden to 1 by setting random_state. Use no seed for parallelism.\n",
      "  warn(f\"n_jobs value {self.n_jobs} overridden to 1 by setting random_state. Use no seed for parallelism.\")\n"
     ]
    }
   ],
   "source": [
    "# Projections are slow, so we'll cache them\n",
    "v.umap_all_emb_path = \"umap_emb_all_docs.temp.pickle\"\n",
    "\n",
    "v.umap_transform = umap.UMAP(\n",
    "    random_state=0, \n",
    "    transform_seed=0, \n",
    "    low_memory=False).fit(v.emb_values)\n",
    "\n",
    "if os.path.exists(v.umap_all_emb_path):\n",
    "    with open(v.umap_all_emb_path, \"rb\") as f:\n",
    "        v.umap_all = pickle.load(f)\n",
    "else:\n",
    "    v.umap_all = umap_embeddings(v.emb_values, v.umap_transform)\n",
    "    with open(v.umap_all_emb_path, \"wb\") as f:\n",
    "        pickle.dump(v.umap_all, f)"
   ]
  },
  {
   "cell_type": "code",
   "execution_count": 54,
   "id": "bf06a9e0",
   "metadata": {},
   "outputs": [],
   "source": [
    "v.question = \"What was the total revenue?\""
   ]
  },
  {
   "cell_type": "code",
   "execution_count": 55,
   "id": "fa2f1e8c",
   "metadata": {},
   "outputs": [
    {
     "data": {
      "text/plain": [
       "<matplotlib.collections.PathCollection at 0x7f6e12363dc0>"
      ]
     },
     "execution_count": 55,
     "metadata": {},
     "output_type": "execute_result"
    },
    {
     "data": {
      "image/png": "[encoded data removed]",
      "text/plain": [
       "<Figure size 640x480 with 1 Axes>"
      ]
     },
     "metadata": {},
     "output_type": "display_data"
    }
   ],
   "source": [
    "plt.figure()\n",
    "plt.scatter(v.umap_all[:, 0], v.umap_all[:, 1], s=15)"
   ]
  },
  {
   "cell_type": "code",
   "execution_count": 56,
   "id": "9be201e6",
   "metadata": {},
   "outputs": [],
   "source": [
    "v.results = t.coll.aggregate([{\n",
    "    \"$vectorSearch\": {\n",
    "        \"queryVector\": t.emb_model.encode(v.question).tolist(),\n",
    "        \"path\": \"embedding\",\n",
    "        \"numCandidates\": 200,\n",
    "        \"limit\": 8,\n",
    "        \"index\": f\"{t.coll.name}_vector_index\"\n",
    "    }}]) \n",
    "v.results = list(v.results)"
   ]
  },
  {
   "cell_type": "code",
   "execution_count": 57,
   "id": "6234b82f",
   "metadata": {},
   "outputs": [
    {
     "data": {
      "text/plain": [
       "8"
      ]
     },
     "execution_count": 57,
     "metadata": {},
     "output_type": "execute_result"
    }
   ],
   "source": [
    "len(v.results)"
   ]
  },
  {
   "cell_type": "code",
   "execution_count": 58,
   "id": "4981569f",
   "metadata": {},
   "outputs": [
    {
     "name": "stderr",
     "output_type": "stream",
     "text": [
      "100%|██████████| 1/1 [00:02<00:00,  2.06s/it]\n"
     ]
    }
   ],
   "source": [
    "v.umap_query = umap_embeddings([\n",
    "    t.emb_model.encode(v.question)\n",
    "], v.umap_transform)"
   ]
  },
  {
   "cell_type": "code",
   "execution_count": 59,
   "id": "d10cfbd2",
   "metadata": {},
   "outputs": [
    {
     "data": {
      "text/plain": [
       "array([[4.50944471, 3.11893868]])"
      ]
     },
     "execution_count": 59,
     "metadata": {},
     "output_type": "execute_result"
    }
   ],
   "source": [
    "v.umap_query"
   ]
  },
  {
   "cell_type": "code",
   "execution_count": 60,
   "id": "8eec5095",
   "metadata": {},
   "outputs": [
    {
     "name": "stderr",
     "output_type": "stream",
     "text": [
      "100%|██████████| 8/8 [00:03<00:00,  2.25it/s]\n"
     ]
    }
   ],
   "source": [
    "v.umap_results = umap_embeddings(\n",
    "    [d['embedding'] for d in v.results],\n",
    "    v.umap_transform\n",
    ")"
   ]
  },
  {
   "cell_type": "code",
   "execution_count": 61,
   "id": "9e769fd9",
   "metadata": {},
   "outputs": [
    {
     "data": {
      "text/plain": [
       "(8, 2)"
      ]
     },
     "execution_count": 61,
     "metadata": {},
     "output_type": "execute_result"
    }
   ],
   "source": [
    "v.umap_results.shape"
   ]
  },
  {
   "cell_type": "code",
   "execution_count": 62,
   "id": "f4233c9c",
   "metadata": {},
   "outputs": [
    {
     "data": {
      "text/plain": [
       "<matplotlib.collections.PathCollection at 0x7f68df75bc70>"
      ]
     },
     "execution_count": 62,
     "metadata": {},
     "output_type": "execute_result"
    },
    {
     "data": {
      "image/png": "[encoded data removed]",
      "text/plain": [
       "<Figure size 640x480 with 1 Axes>"
      ]
     },
     "metadata": {},
     "output_type": "display_data"
    }
   ],
   "source": [
    "plt.figure()\n",
    "plt.scatter(v.umap_all[:, 0], v.umap_all[:, 1], s=15, color=\"gray\")\n",
    "plt.scatter(v.umap_results[:, 0], v.umap_results[:, 1], s=15, color=\"blue\")\n",
    "plt.scatter(v.umap_query[:, 0], v.umap_query[:, 1], marker=\"x\", s=100, color=\"r\")"
   ]
  },
  {
   "cell_type": "markdown",
   "id": "9fb30f26",
   "metadata": {},
   "source": [
    "## Pitfalls"
   ]
  },
  {
   "cell_type": "markdown",
   "id": "c087c9c0",
   "metadata": {},
   "source": [
    "Vector search always returns results! These results may or may not be useful for the LLM to generate good answers, or stay within the topic."
   ]
  },
  {
   "cell_type": "code",
   "execution_count": 63,
   "id": "78391d3d",
   "metadata": {},
   "outputs": [
    {
     "name": "stdout",
     "output_type": "stream",
     "text": [
      "  Based on the information provided in the financial report, I cannot answer your question about who won the last Super Bowl as it is not related to the company's financial performance or operations. The information provided in the financial report includes details about the company's revenue, income statement, balance sheet, and cash flow statements for the years ended January 31, 2023 and 2022, as well as certain notes to the consolidated financial statements. However, it does not include any information related to sports or the Super Bowl.CPU times: user 3.38 s, sys: 349 ms, total: 3.73 s\n",
      "Wall time: 3.76 s\n"
     ]
    }
   ],
   "source": [
    "%%time\n",
    "ask_with_rag(\"Who won the last Super Bowl?\")"
   ]
  },
  {
   "cell_type": "code",
   "execution_count": 64,
   "id": "af89eaa5",
   "metadata": {},
   "outputs": [],
   "source": [
    "def query_and_plot_embeddings(coll, question, index_name, emb_model, umap_transform, umap_all):\n",
    "    t = None\n",
    "    v = None\n",
    "    results = coll.aggregate([{\n",
    "    \"$vectorSearch\": {\n",
    "        \"queryVector\": emb_model.encode(question).tolist(),\n",
    "        \"path\": \"embedding\",\n",
    "        \"numCandidates\": 200,\n",
    "        \"limit\": 8,\n",
    "        \"index\": index_name\n",
    "    }}]) \n",
    "    results = list(results)\n",
    "    umap_query = umap_embeddings(\n",
    "        [emb_model.encode(question)], \n",
    "        umap_transform)\n",
    "    umap_results = umap_embeddings(\n",
    "        [d['embedding'] for d in results],\n",
    "        umap_transform)\n",
    "    plt.figure()\n",
    "    plt.scatter(umap_all[:, 0], umap_all[:, 1], s=15, color=\"gray\")\n",
    "    plt.scatter(umap_results[:, 0], umap_results[:, 1], s=15, color=\"blue\")\n",
    "    plt.scatter(umap_query[:, 0], umap_query[:, 1], marker=\"x\", s=100, color=\"r\")"
   ]
  },
  {
   "cell_type": "code",
   "execution_count": 65,
   "id": "07fd89ac",
   "metadata": {},
   "outputs": [
    {
     "name": "stderr",
     "output_type": "stream",
     "text": [
      "100%|██████████| 1/1 [00:00<00:00,  1.53it/s]\n",
      "100%|██████████| 8/8 [00:03<00:00,  2.24it/s]\n"
     ]
    },
    {
     "data": {
      "image/png": "[encoded data removed]",
      "text/plain": [
       "<Figure size 640x480 with 1 Axes>"
      ]
     },
     "metadata": {},
     "output_type": "display_data"
    }
   ],
   "source": [
    "query_and_plot_embeddings(\n",
    "    t.coll,\n",
    "    \"What team is Tom Brady playing for in 2024?\",\n",
    "    f\"{t.coll.name}_vector_index\",\n",
    "    t.emb_model,\n",
    "    v.umap_transform,\n",
    "    v.umap_all\n",
    ")"
   ]
  },
  {
   "cell_type": "markdown",
   "id": "639c1293",
   "metadata": {},
   "source": [
    "## LangChain"
   ]
  },
  {
   "cell_type": "markdown",
   "id": "d0900ef7",
   "metadata": {},
   "source": [
    "We'll use LangChain to tie this all together into a simple API."
   ]
  },
  {
   "cell_type": "code",
   "execution_count": 66,
   "id": "d918f73b",
   "metadata": {
    "execution": {
     "iopub.execute_input": "2024-01-24T20:00:01.267148Z",
     "iopub.status.busy": "2024-01-24T20:00:01.266861Z",
     "iopub.status.idle": "2024-01-24T20:00:03.568766Z",
     "shell.execute_reply": "2024-01-24T20:00:03.567948Z",
     "shell.execute_reply.started": "2024-01-24T20:00:01.267123Z"
    }
   },
   "outputs": [],
   "source": [
    "# https://python.langchain.com/docs/integrations/vectorstores/mongodb_atlas\n",
    "\n",
    "from langchain.chains import RetrievalQA\n",
    "from langchain_community.vectorstores import MongoDBAtlasVectorSearch\n",
    "from langchain_community.embeddings import HuggingFaceEmbeddings"
   ]
  },
  {
   "cell_type": "code",
   "execution_count": 67,
   "id": "b2a38519",
   "metadata": {
    "execution": {
     "iopub.execute_input": "2024-01-24T20:00:03.570707Z",
     "iopub.status.busy": "2024-01-24T20:00:03.569924Z",
     "iopub.status.idle": "2024-01-24T20:00:03.574778Z",
     "shell.execute_reply": "2024-01-24T20:00:03.573910Z",
     "shell.execute_reply.started": "2024-01-24T20:00:03.570669Z"
    }
   },
   "outputs": [],
   "source": [
    "l = Object()\n",
    "l.llm = t.llm"
   ]
  },
  {
   "cell_type": "code",
   "execution_count": 68,
   "id": "aece5711",
   "metadata": {
    "execution": {
     "iopub.execute_input": "2024-01-24T20:00:03.576144Z",
     "iopub.status.busy": "2024-01-24T20:00:03.575860Z",
     "iopub.status.idle": "2024-01-24T20:00:04.079574Z",
     "shell.execute_reply": "2024-01-24T20:00:04.078438Z",
     "shell.execute_reply.started": "2024-01-24T20:00:03.576119Z"
    }
   },
   "outputs": [],
   "source": [
    "l.lang_emb = HuggingFaceEmbeddings(model_name=\"multi-qa-mpnet-base-cos-v1\")"
   ]
  },
  {
   "cell_type": "markdown",
   "id": "e36dbbdb",
   "metadata": {},
   "source": [
    "Check that the embeddings model returns embeddings of the correct size of 768:"
   ]
  },
  {
   "cell_type": "code",
   "execution_count": 69,
   "id": "205babb4",
   "metadata": {
    "execution": {
     "iopub.execute_input": "2024-01-24T20:00:04.081361Z",
     "iopub.status.busy": "2024-01-24T20:00:04.080960Z",
     "iopub.status.idle": "2024-01-24T20:00:04.239367Z",
     "shell.execute_reply": "2024-01-24T20:00:04.238405Z",
     "shell.execute_reply.started": "2024-01-24T20:00:04.081321Z"
    }
   },
   "outputs": [
    {
     "data": {
      "text/plain": [
       "768"
      ]
     },
     "execution_count": 69,
     "metadata": {},
     "output_type": "execute_result"
    }
   ],
   "source": [
    "len(l.lang_emb.embed_documents(['This is a test document'])[0])"
   ]
  },
  {
   "cell_type": "code",
   "execution_count": 70,
   "id": "daf044b2",
   "metadata": {
    "execution": {
     "iopub.execute_input": "2024-01-24T20:00:04.241406Z",
     "iopub.status.busy": "2024-01-24T20:00:04.240985Z",
     "iopub.status.idle": "2024-01-24T20:00:04.246135Z",
     "shell.execute_reply": "2024-01-24T20:00:04.245263Z",
     "shell.execute_reply.started": "2024-01-24T20:00:04.241356Z"
    }
   },
   "outputs": [],
   "source": [
    "l.vector_search = MongoDBAtlasVectorSearch(\n",
    "    t.coll, \n",
    "    l.lang_emb, \n",
    "    index_name=\"mdb_vector_index\",\n",
    "    embedding_key=\"embedding\")"
   ]
  },
  {
   "cell_type": "code",
   "execution_count": 71,
   "id": "ee77fed2",
   "metadata": {
    "execution": {
     "iopub.execute_input": "2024-01-24T20:00:04.247634Z",
     "iopub.status.busy": "2024-01-24T20:00:04.247275Z",
     "iopub.status.idle": "2024-01-24T20:00:04.527297Z",
     "shell.execute_reply": "2024-01-24T20:00:04.526081Z",
     "shell.execute_reply.started": "2024-01-24T20:00:04.247601Z"
    }
   },
   "outputs": [],
   "source": [
    "l.results = list(l.vector_search.max_marginal_relevance_search(\n",
    "    query=\"What was the total revenue?\",\n",
    "    k = 8,\n",
    "))"
   ]
  },
  {
   "cell_type": "code",
   "execution_count": 72,
   "id": "9e928f65",
   "metadata": {
    "execution": {
     "iopub.execute_input": "2024-01-24T20:00:04.536442Z",
     "iopub.status.busy": "2024-01-24T20:00:04.533143Z",
     "iopub.status.idle": "2024-01-24T20:00:04.549402Z",
     "shell.execute_reply": "2024-01-24T20:00:04.547888Z",
     "shell.execute_reply.started": "2024-01-24T20:00:04.536391Z"
    }
   },
   "outputs": [
    {
     "data": {
      "text/plain": [
       "8"
      ]
     },
     "execution_count": 72,
     "metadata": {},
     "output_type": "execute_result"
    }
   ],
   "source": [
    "len(l.results)"
   ]
  },
  {
   "cell_type": "markdown",
   "id": "75802772",
   "metadata": {},
   "source": [
    "### Make a Retriever Object"
   ]
  },
  {
   "cell_type": "code",
   "execution_count": 73,
   "id": "7c791d78",
   "metadata": {
    "execution": {
     "iopub.execute_input": "2024-01-24T20:00:04.558590Z",
     "iopub.status.busy": "2024-01-24T20:00:04.555396Z",
     "iopub.status.idle": "2024-01-24T20:00:04.566953Z",
     "shell.execute_reply": "2024-01-24T20:00:04.565665Z",
     "shell.execute_reply.started": "2024-01-24T20:00:04.558541Z"
    }
   },
   "outputs": [],
   "source": [
    "l.retriever = l.vector_search.as_retriever(search_kwargs={\"k\": 8})"
   ]
  },
  {
   "cell_type": "markdown",
   "id": "43147e3d",
   "metadata": {},
   "source": [
    "### Make the end-to-end chain object"
   ]
  },
  {
   "cell_type": "code",
   "execution_count": 74,
   "id": "1e4f9e98",
   "metadata": {
    "execution": {
     "iopub.execute_input": "2024-01-24T20:00:04.576916Z",
     "iopub.status.busy": "2024-01-24T20:00:04.573188Z",
     "iopub.status.idle": "2024-01-24T20:00:04.586586Z",
     "shell.execute_reply": "2024-01-24T20:00:04.585322Z",
     "shell.execute_reply.started": "2024-01-24T20:00:04.576868Z"
    }
   },
   "outputs": [],
   "source": [
    "l.qa = RetrievalQA.from_chain_type(\n",
    "    llm=l.llm, \n",
    "    retriever=l.retriever)"
   ]
  },
  {
   "cell_type": "markdown",
   "id": "2c440184",
   "metadata": {},
   "source": [
    "### Query LLM with LangChain"
   ]
  },
  {
   "cell_type": "code",
   "execution_count": 75,
   "id": "17267264",
   "metadata": {
    "execution": {
     "iopub.execute_input": "2024-01-24T20:00:04.592235Z",
     "iopub.status.busy": "2024-01-24T20:00:04.590575Z",
     "iopub.status.idle": "2024-01-24T20:01:26.445363Z",
     "shell.execute_reply": "2024-01-24T20:01:26.444260Z",
     "shell.execute_reply.started": "2024-01-24T20:00:04.592191Z"
    }
   },
   "outputs": [
    {
     "name": "stdout",
     "output_type": "stream",
     "text": [
      " The total revenue for the year ended January 31, 2023, as reported in the financial statements provided, was $1,284,040.CPU times: user 2.27 s, sys: 638 ms, total: 2.9 s\n",
      "Wall time: 2.82 s\n"
     ]
    },
    {
     "data": {
      "text/plain": [
       "{'query': 'What was the total revenue?',\n",
       " 'result': ' The total revenue for the year ended January 31, 2023, as reported in the financial statements provided, was $1,284,040.'}"
      ]
     },
     "execution_count": 75,
     "metadata": {},
     "output_type": "execute_result"
    }
   ],
   "source": [
    "%%time\n",
    "l.qa.invoke(\"What was the total revenue?\")"
   ]
  },
  {
   "cell_type": "code",
   "execution_count": 76,
   "id": "ef5f0866",
   "metadata": {
    "execution": {
     "iopub.execute_input": "2024-01-24T20:01:26.447174Z",
     "iopub.status.busy": "2024-01-24T20:01:26.446791Z",
     "iopub.status.idle": "2024-01-24T20:02:11.596024Z",
     "shell.execute_reply": "2024-01-24T20:02:11.595013Z",
     "shell.execute_reply.started": "2024-01-24T20:01:26.447138Z"
    }
   },
   "outputs": [
    {
     "name": "stdout",
     "output_type": "stream",
     "text": [
      " The report covers the period ended January 31, 2023, which includes three years of financial statements.CPU times: user 1.4 s, sys: 268 ms, total: 1.66 s\n",
      "Wall time: 1.77 s\n"
     ]
    },
    {
     "data": {
      "text/plain": [
       "{'query': 'What time period does the report cover?',\n",
       " 'result': ' The report covers the period ended January 31, 2023, which includes three years of financial statements.'}"
      ]
     },
     "execution_count": 76,
     "metadata": {},
     "output_type": "execute_result"
    }
   ],
   "source": [
    "%%time\n",
    "l.qa.invoke(\"What time period does the report cover?\")"
   ]
  }
 ],
 "metadata": {
  "kaggle": {
   "accelerator": "nvidiaTeslaT4",
   "dataSources": [
    {
     "datasetId": 4347140,
     "sourceId": 7468084,
     "sourceType": "datasetVersion"
    },
    {
     "modelInstanceId": 3097,
     "sourceId": 4302,
     "sourceType": "modelInstanceVersion"
    }
   ],
   "isGpuEnabled": true,
   "isInternetEnabled": true,
   "language": "python",
   "sourceType": "notebook"
  },
  "kernelspec": {
   "display_name": "Python 3 (ipykernel)",
   "language": "python",
   "name": "python3"
  },
  "language_info": {
   "codemirror_mode": {
    "name": "ipython",
    "version": 3
   },
   "file_extension": ".py",
   "mimetype": "text/x-python",
   "name": "python",
   "nbconvert_exporter": "python",
   "pygments_lexer": "ipython3",
   "version": "3.8.12"
  },
  "toc": {
   "base_numbering": 1,
   "nav_menu": {},
   "number_sections": true,
   "sideBar": true,
   "skip_h1_title": false,
   "title_cell": "Table of Contents",
   "title_sidebar": "Contents",
   "toc_cell": false,
   "toc_position": {
    "height": "calc(100% - 180px)",
    "left": "10px",
    "top": "150px",
    "width": "275.992px"
   },
   "toc_section_display": true,
   "toc_window_display": true
  },
  "varInspector": {
   "cols": {
    "lenName": 16,
    "lenType": 16,
    "lenVar": 40
   },
   "kernels_config": {
    "python": {
     "delete_cmd_postfix": "",
     "delete_cmd_prefix": "del ",
     "library": "var_list.py",
     "varRefreshCmd": "print(var_dic_list())"
    },
    "r": {
     "delete_cmd_postfix": ") ",
     "delete_cmd_prefix": "rm(",
     "library": "var_list.r",
     "varRefreshCmd": "cat(var_dic_list()) "
    }
   },
   "types_to_exclude": [
    "module",
    "function",
    "builtin_function_or_method",
    "instance",
    "_Feature"
   ],
   "window_display": false
  }
 },
 "nbformat": 4,
 "nbformat_minor": 5
}
